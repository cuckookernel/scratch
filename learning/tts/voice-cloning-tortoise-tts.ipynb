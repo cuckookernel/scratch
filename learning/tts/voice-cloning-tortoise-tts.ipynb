{
 "cells": [
  {
   "cell_type": "markdown",
   "metadata": {
    "id": "_pIZ3ZXNp7cf"
   },
   "source": [
    "Welcome to Tortoise! 🐢🐢🐢🐢\n",
    "\n",
    "Before you begin, I **strongly** recommend you turn on a GPU runtime.\n",
    "\n",
    "There's a reason this is called \"Tortoise\" - this model takes up to a minute to perform inference for a single sentence on a GPU. Expect waits on the order of hours on a CPU."
   ]
  },
  {
   "cell_type": "code",
   "execution_count": 4,
   "metadata": {},
   "outputs": [
    {
     "name": "stdout",
     "output_type": "stream",
     "text": [
      "/home/teo/git/_third_party\n"
     ]
    },
    {
     "data": {
      "text/plain": [
       "'/home/teo/git/_third_party'"
      ]
     },
     "execution_count": 4,
     "metadata": {},
     "output_type": "execute_result"
    }
   ],
   "source": [
    "%cd /home/teo/git/_third_party\n",
    "%pwd"
   ]
  },
  {
   "cell_type": "code",
   "execution_count": 5,
   "metadata": {
    "id": "JrK20I32grP6"
   },
   "outputs": [
    {
     "name": "stdout",
     "output_type": "stream",
     "text": [
      "/home/teo/git/_third_party/tortoise-tts\n"
     ]
    }
   ],
   "source": [
    "# the scipy version packaged with colab is not tolerant of misformated WAV files.\n",
    "# install the latest version.\n",
    "# !pip3 install -U scipy\n",
    "\n",
    "# !git clone https://github.com/jnordberg/tortoise-tts.git\n",
    "%cd tortoise-tts"
   ]
  },
  {
   "cell_type": "markdown",
   "metadata": {},
   "source": [
    "IMPORTANT: In requirements.txt change version of numba to 0.57.0\n"
   ]
  },
  {
   "cell_type": "code",
   "execution_count": null,
   "metadata": {
    "id": "JrK20I32grP6"
   },
   "outputs": [],
   "source": [
    "!pip3 install -r requirements.txt"
   ]
  },
  {
   "cell_type": "code",
   "execution_count": 1,
   "metadata": {
    "id": "JrK20I32grP6"
   },
   "outputs": [
    {
     "name": "stdout",
     "output_type": "stream",
     "text": [
      "Requirement already satisfied: scipy in /home/teo/venvs/py39-tortoise/lib/python3.9/site-packages (1.10.1)\n",
      "Requirement already satisfied: numpy<1.27.0,>=1.19.5 in /home/teo/venvs/py39-tortoise/lib/python3.9/site-packages (from scipy) (1.23.0)\n",
      "\u001b[33mWARNING: You are using pip version 22.0.4; however, version 23.1.2 is available.\n",
      "You should consider upgrading via the '/home/teo/venvs/py39-tortoise/bin/python3.9 -m pip install --upgrade pip' command.\u001b[0m\u001b[33m\n",
      "\u001b[0mCloning into 'tortoise-tts'...\n",
      "remote: Enumerating objects: 1481, done.\u001b[K\n",
      "remote: Total 1481 (delta 0), reused 0 (delta 0), pack-reused 1481\u001b[K\n",
      "Receiving objects: 100% (1481/1481), 53.57 MiB | 9.73 MiB/s, done.\n",
      "Resolving deltas: 100% (596/596), done.\n",
      "/home/teo/git/_personal/scratch/learning/tts/tortoise-tts\n",
      "Requirement already satisfied: tqdm in /home/teo/venvs/py39-tortoise/lib/python3.9/site-packages (from -r requirements.txt (line 1)) (4.65.0)\n",
      "Requirement already satisfied: rotary_embedding_torch in /home/teo/venvs/py39-tortoise/lib/python3.9/site-packages (from -r requirements.txt (line 2)) (0.2.1)\n",
      "Requirement already satisfied: transformers in /home/teo/venvs/py39-tortoise/lib/python3.9/site-packages (from -r requirements.txt (line 3)) (4.19.0)\n",
      "Requirement already satisfied: tokenizers in /home/teo/venvs/py39-tortoise/lib/python3.9/site-packages (from -r requirements.txt (line 4)) (0.12.1)\n",
      "Requirement already satisfied: inflect in /home/teo/venvs/py39-tortoise/lib/python3.9/site-packages (from -r requirements.txt (line 5)) (6.0.4)\n",
      "Requirement already satisfied: progressbar in /home/teo/venvs/py39-tortoise/lib/python3.9/site-packages (from -r requirements.txt (line 6)) (2.5)\n",
      "Requirement already satisfied: einops in /home/teo/venvs/py39-tortoise/lib/python3.9/site-packages (from -r requirements.txt (line 7)) (0.4.1)\n",
      "Requirement already satisfied: unidecode in /home/teo/venvs/py39-tortoise/lib/python3.9/site-packages (from -r requirements.txt (line 8)) (1.3.6)\n",
      "Requirement already satisfied: scipy in /home/teo/venvs/py39-tortoise/lib/python3.9/site-packages (from -r requirements.txt (line 9)) (1.10.1)\n",
      "Requirement already satisfied: librosa in /home/teo/venvs/py39-tortoise/lib/python3.9/site-packages (from -r requirements.txt (line 10)) (0.9.1)\n",
      "Collecting numba==0.48.0\n",
      "  Using cached numba-0.48.0-cp39-cp39-linux_x86_64.whl\n",
      "Requirement already satisfied: ffmpeg in /home/teo/venvs/py39-tortoise/lib/python3.9/site-packages (from -r requirements.txt (line 12)) (1.4)\n",
      "Collecting llvmlite<0.32.0,>=0.31.0dev0\n",
      "  Using cached llvmlite-0.31.0.tar.gz (110 kB)\n",
      "  Preparing metadata (setup.py) ... \u001b[?25ldone\n",
      "\u001b[?25hRequirement already satisfied: numpy>=1.15 in /home/teo/venvs/py39-tortoise/lib/python3.9/site-packages (from numba==0.48.0->-r requirements.txt (line 11)) (1.23.0)\n",
      "Requirement already satisfied: setuptools in /home/teo/venvs/py39-tortoise/lib/python3.9/site-packages (from numba==0.48.0->-r requirements.txt (line 11)) (58.1.0)\n",
      "Requirement already satisfied: torch>=1.6 in /home/teo/venvs/py39-tortoise/lib/python3.9/site-packages (from rotary_embedding_torch->-r requirements.txt (line 2)) (2.0.0)\n",
      "Requirement already satisfied: filelock in /home/teo/venvs/py39-tortoise/lib/python3.9/site-packages (from transformers->-r requirements.txt (line 3)) (3.12.0)\n",
      "Requirement already satisfied: requests in /home/teo/venvs/py39-tortoise/lib/python3.9/site-packages (from transformers->-r requirements.txt (line 3)) (2.28.2)\n",
      "Requirement already satisfied: packaging>=20.0 in /home/teo/venvs/py39-tortoise/lib/python3.9/site-packages (from transformers->-r requirements.txt (line 3)) (23.1)\n",
      "Requirement already satisfied: huggingface-hub<1.0,>=0.1.0 in /home/teo/venvs/py39-tortoise/lib/python3.9/site-packages (from transformers->-r requirements.txt (line 3)) (0.13.4)\n",
      "Requirement already satisfied: pyyaml>=5.1 in /home/teo/venvs/py39-tortoise/lib/python3.9/site-packages (from transformers->-r requirements.txt (line 3)) (6.0)\n",
      "Requirement already satisfied: regex!=2019.12.17 in /home/teo/venvs/py39-tortoise/lib/python3.9/site-packages (from transformers->-r requirements.txt (line 3)) (2023.3.23)\n",
      "Requirement already satisfied: pydantic>=1.9.1 in /home/teo/venvs/py39-tortoise/lib/python3.9/site-packages (from inflect->-r requirements.txt (line 5)) (1.10.7)\n",
      "Requirement already satisfied: resampy>=0.2.2 in /home/teo/venvs/py39-tortoise/lib/python3.9/site-packages (from librosa->-r requirements.txt (line 10)) (0.4.2)\n",
      "Requirement already satisfied: soundfile>=0.10.2 in /home/teo/venvs/py39-tortoise/lib/python3.9/site-packages (from librosa->-r requirements.txt (line 10)) (0.12.1)\n",
      "Requirement already satisfied: audioread>=2.1.5 in /home/teo/venvs/py39-tortoise/lib/python3.9/site-packages (from librosa->-r requirements.txt (line 10)) (3.0.0)\n",
      "Requirement already satisfied: decorator>=4.0.10 in /home/teo/venvs/py39-tortoise/lib/python3.9/site-packages (from librosa->-r requirements.txt (line 10)) (5.1.1)\n",
      "Requirement already satisfied: joblib>=0.14 in /home/teo/venvs/py39-tortoise/lib/python3.9/site-packages (from librosa->-r requirements.txt (line 10)) (1.2.0)\n",
      "Requirement already satisfied: pooch>=1.0 in /home/teo/venvs/py39-tortoise/lib/python3.9/site-packages (from librosa->-r requirements.txt (line 10)) (1.7.0)\n",
      "Requirement already satisfied: scikit-learn>=0.19.1 in /home/teo/venvs/py39-tortoise/lib/python3.9/site-packages (from librosa->-r requirements.txt (line 10)) (1.2.2)\n",
      "Requirement already satisfied: typing-extensions>=3.7.4.3 in /home/teo/venvs/py39-tortoise/lib/python3.9/site-packages (from huggingface-hub<1.0,>=0.1.0->transformers->-r requirements.txt (line 3)) (4.5.0)\n",
      "Requirement already satisfied: platformdirs>=2.5.0 in /home/teo/venvs/py39-tortoise/lib/python3.9/site-packages (from pooch>=1.0->librosa->-r requirements.txt (line 10)) (3.2.0)\n",
      "Requirement already satisfied: urllib3<1.27,>=1.21.1 in /home/teo/venvs/py39-tortoise/lib/python3.9/site-packages (from requests->transformers->-r requirements.txt (line 3)) (1.26.15)\n",
      "Requirement already satisfied: certifi>=2017.4.17 in /home/teo/venvs/py39-tortoise/lib/python3.9/site-packages (from requests->transformers->-r requirements.txt (line 3)) (2022.12.7)\n",
      "Requirement already satisfied: idna<4,>=2.5 in /home/teo/venvs/py39-tortoise/lib/python3.9/site-packages (from requests->transformers->-r requirements.txt (line 3)) (3.4)\n",
      "Requirement already satisfied: charset-normalizer<4,>=2 in /home/teo/venvs/py39-tortoise/lib/python3.9/site-packages (from requests->transformers->-r requirements.txt (line 3)) (3.1.0)\n",
      "Collecting resampy>=0.2.2\n",
      "  Using cached resampy-0.4.1-py3-none-any.whl (3.1 MB)\n",
      "  Using cached resampy-0.4.0-py3-none-any.whl (3.1 MB)\n",
      "  Using cached resampy-0.3.1-py3-none-any.whl (3.1 MB)\n",
      "Requirement already satisfied: threadpoolctl>=2.0.0 in /home/teo/venvs/py39-tortoise/lib/python3.9/site-packages (from scikit-learn>=0.19.1->librosa->-r requirements.txt (line 10)) (3.1.0)\n",
      "Requirement already satisfied: cffi>=1.0 in /home/teo/venvs/py39-tortoise/lib/python3.9/site-packages (from soundfile>=0.10.2->librosa->-r requirements.txt (line 10)) (1.15.1)\n",
      "Requirement already satisfied: triton==2.0.0 in /home/teo/venvs/py39-tortoise/lib/python3.9/site-packages (from torch>=1.6->rotary_embedding_torch->-r requirements.txt (line 2)) (2.0.0)\n",
      "Requirement already satisfied: networkx in /home/teo/venvs/py39-tortoise/lib/python3.9/site-packages (from torch>=1.6->rotary_embedding_torch->-r requirements.txt (line 2)) (3.1)\n",
      "Requirement already satisfied: nvidia-cusolver-cu11==11.4.0.1 in /home/teo/venvs/py39-tortoise/lib/python3.9/site-packages (from torch>=1.6->rotary_embedding_torch->-r requirements.txt (line 2)) (11.4.0.1)\n",
      "Requirement already satisfied: nvidia-cublas-cu11==11.10.3.66 in /home/teo/venvs/py39-tortoise/lib/python3.9/site-packages (from torch>=1.6->rotary_embedding_torch->-r requirements.txt (line 2)) (11.10.3.66)\n",
      "Requirement already satisfied: jinja2 in /home/teo/venvs/py39-tortoise/lib/python3.9/site-packages (from torch>=1.6->rotary_embedding_torch->-r requirements.txt (line 2)) (3.1.2)\n",
      "Requirement already satisfied: nvidia-nccl-cu11==2.14.3 in /home/teo/venvs/py39-tortoise/lib/python3.9/site-packages (from torch>=1.6->rotary_embedding_torch->-r requirements.txt (line 2)) (2.14.3)\n",
      "Requirement already satisfied: nvidia-cusparse-cu11==11.7.4.91 in /home/teo/venvs/py39-tortoise/lib/python3.9/site-packages (from torch>=1.6->rotary_embedding_torch->-r requirements.txt (line 2)) (11.7.4.91)\n",
      "Requirement already satisfied: nvidia-cuda-cupti-cu11==11.7.101 in /home/teo/venvs/py39-tortoise/lib/python3.9/site-packages (from torch>=1.6->rotary_embedding_torch->-r requirements.txt (line 2)) (11.7.101)\n",
      "Requirement already satisfied: nvidia-nvtx-cu11==11.7.91 in /home/teo/venvs/py39-tortoise/lib/python3.9/site-packages (from torch>=1.6->rotary_embedding_torch->-r requirements.txt (line 2)) (11.7.91)\n",
      "Requirement already satisfied: nvidia-cuda-runtime-cu11==11.7.99 in /home/teo/venvs/py39-tortoise/lib/python3.9/site-packages (from torch>=1.6->rotary_embedding_torch->-r requirements.txt (line 2)) (11.7.99)\n",
      "Requirement already satisfied: nvidia-cudnn-cu11==8.5.0.96 in /home/teo/venvs/py39-tortoise/lib/python3.9/site-packages (from torch>=1.6->rotary_embedding_torch->-r requirements.txt (line 2)) (8.5.0.96)\n",
      "Requirement already satisfied: nvidia-curand-cu11==10.2.10.91 in /home/teo/venvs/py39-tortoise/lib/python3.9/site-packages (from torch>=1.6->rotary_embedding_torch->-r requirements.txt (line 2)) (10.2.10.91)\n",
      "Requirement already satisfied: nvidia-cuda-nvrtc-cu11==11.7.99 in /home/teo/venvs/py39-tortoise/lib/python3.9/site-packages (from torch>=1.6->rotary_embedding_torch->-r requirements.txt (line 2)) (11.7.99)\n",
      "Requirement already satisfied: nvidia-cufft-cu11==10.9.0.58 in /home/teo/venvs/py39-tortoise/lib/python3.9/site-packages (from torch>=1.6->rotary_embedding_torch->-r requirements.txt (line 2)) (10.9.0.58)\n",
      "Requirement already satisfied: sympy in /home/teo/venvs/py39-tortoise/lib/python3.9/site-packages (from torch>=1.6->rotary_embedding_torch->-r requirements.txt (line 2)) (1.11.1)\n",
      "Requirement already satisfied: wheel in /home/teo/venvs/py39-tortoise/lib/python3.9/site-packages (from nvidia-cublas-cu11==11.10.3.66->torch>=1.6->rotary_embedding_torch->-r requirements.txt (line 2)) (0.40.0)\n",
      "Requirement already satisfied: lit in /home/teo/venvs/py39-tortoise/lib/python3.9/site-packages (from triton==2.0.0->torch>=1.6->rotary_embedding_torch->-r requirements.txt (line 2)) (16.0.1)\n",
      "Requirement already satisfied: cmake in /home/teo/venvs/py39-tortoise/lib/python3.9/site-packages (from triton==2.0.0->torch>=1.6->rotary_embedding_torch->-r requirements.txt (line 2)) (3.26.3)\n"
     ]
    },
    {
     "name": "stdout",
     "output_type": "stream",
     "text": [
      "Requirement already satisfied: pycparser in /home/teo/venvs/py39-tortoise/lib/python3.9/site-packages (from cffi>=1.0->soundfile>=0.10.2->librosa->-r requirements.txt (line 10)) (2.21)\n",
      "Requirement already satisfied: MarkupSafe>=2.0 in /home/teo/venvs/py39-tortoise/lib/python3.9/site-packages (from jinja2->torch>=1.6->rotary_embedding_torch->-r requirements.txt (line 2)) (2.1.2)\n",
      "Requirement already satisfied: mpmath>=0.19 in /home/teo/venvs/py39-tortoise/lib/python3.9/site-packages (from sympy->torch>=1.6->rotary_embedding_torch->-r requirements.txt (line 2)) (1.3.0)\n",
      "Building wheels for collected packages: llvmlite\n",
      "  Building wheel for llvmlite (setup.py) ... \u001b[?25lerror\n",
      "  \u001b[1;31merror\u001b[0m: \u001b[1msubprocess-exited-with-error\u001b[0m\n",
      "  \n",
      "  \u001b[31m×\u001b[0m \u001b[32mpython setup.py bdist_wheel\u001b[0m did not run successfully.\n",
      "  \u001b[31m│\u001b[0m exit code: \u001b[1;36m1\u001b[0m\n",
      "  \u001b[31m╰─>\u001b[0m \u001b[31m[15 lines of output]\u001b[0m\n",
      "  \u001b[31m   \u001b[0m running bdist_wheel\n",
      "  \u001b[31m   \u001b[0m /home/teo/venvs/py39-tortoise/bin/python3.9 /tmp/pip-install-wk6v9_6c/llvmlite_49575dfcf9034f699f5b010ac6f99959/ffi/build.py\n",
      "  \u001b[31m   \u001b[0m LLVM version... 14.0.0\n",
      "  \u001b[31m   \u001b[0m \n",
      "  \u001b[31m   \u001b[0m Traceback (most recent call last):\n",
      "  \u001b[31m   \u001b[0m   File \"/tmp/pip-install-wk6v9_6c/llvmlite_49575dfcf9034f699f5b010ac6f99959/ffi/build.py\", line 168, in <module>\n",
      "  \u001b[31m   \u001b[0m     main()\n",
      "  \u001b[31m   \u001b[0m   File \"/tmp/pip-install-wk6v9_6c/llvmlite_49575dfcf9034f699f5b010ac6f99959/ffi/build.py\", line 158, in main\n",
      "  \u001b[31m   \u001b[0m     main_posix('linux', '.so')\n",
      "  \u001b[31m   \u001b[0m   File \"/tmp/pip-install-wk6v9_6c/llvmlite_49575dfcf9034f699f5b010ac6f99959/ffi/build.py\", line 120, in main_posix\n",
      "  \u001b[31m   \u001b[0m     raise RuntimeError(msg)\n",
      "  \u001b[31m   \u001b[0m RuntimeError: Building llvmlite requires LLVM 7.0+ Be sure to set LLVM_CONFIG to the right executable path.\n",
      "  \u001b[31m   \u001b[0m Read the documentation at http://llvmlite.pydata.org/ for more information about building llvmlite.\n",
      "  \u001b[31m   \u001b[0m \n",
      "  \u001b[31m   \u001b[0m error: command '/home/teo/venvs/py39-tortoise/bin/python3.9' failed with exit code 1\n",
      "  \u001b[31m   \u001b[0m \u001b[31m[end of output]\u001b[0m\n",
      "  \n",
      "  \u001b[1;35mnote\u001b[0m: This error originates from a subprocess, and is likely not a problem with pip.\n",
      "\u001b[31m  ERROR: Failed building wheel for llvmlite\u001b[0m\u001b[31m\n",
      "\u001b[0m\u001b[?25h  Running setup.py clean for llvmlite\n",
      "Failed to build llvmlite\n",
      "Installing collected packages: llvmlite, numba, resampy\n",
      "  Attempting uninstall: llvmlite\n",
      "    Found existing installation: llvmlite 0.39.1\n",
      "    Uninstalling llvmlite-0.39.1:\n",
      "      Successfully uninstalled llvmlite-0.39.1\n",
      "  Running setup.py install for llvmlite ... \u001b[?25lerror\n",
      "  \u001b[1;31merror\u001b[0m: \u001b[1msubprocess-exited-with-error\u001b[0m\n",
      "  \n",
      "  \u001b[31m×\u001b[0m \u001b[32mRunning setup.py install for llvmlite\u001b[0m did not run successfully.\n",
      "  \u001b[31m│\u001b[0m exit code: \u001b[1;36m1\u001b[0m\n",
      "  \u001b[31m╰─>\u001b[0m \u001b[31m[18 lines of output]\u001b[0m\n",
      "  \u001b[31m   \u001b[0m running install\n",
      "  \u001b[31m   \u001b[0m running build\n",
      "  \u001b[31m   \u001b[0m got version from file /tmp/pip-install-wk6v9_6c/llvmlite_49575dfcf9034f699f5b010ac6f99959/llvmlite/_version.py {'version': '0.31.0', 'full': 'fe7d985f6421d87f613bd414479d29d912771562'}\n",
      "  \u001b[31m   \u001b[0m running build_ext\n",
      "  \u001b[31m   \u001b[0m /home/teo/venvs/py39-tortoise/bin/python3.9 /tmp/pip-install-wk6v9_6c/llvmlite_49575dfcf9034f699f5b010ac6f99959/ffi/build.py\n",
      "  \u001b[31m   \u001b[0m LLVM version... 14.0.0\n",
      "  \u001b[31m   \u001b[0m \n",
      "  \u001b[31m   \u001b[0m Traceback (most recent call last):\n",
      "  \u001b[31m   \u001b[0m   File \"/tmp/pip-install-wk6v9_6c/llvmlite_49575dfcf9034f699f5b010ac6f99959/ffi/build.py\", line 168, in <module>\n",
      "  \u001b[31m   \u001b[0m     main()\n",
      "  \u001b[31m   \u001b[0m   File \"/tmp/pip-install-wk6v9_6c/llvmlite_49575dfcf9034f699f5b010ac6f99959/ffi/build.py\", line 158, in main\n",
      "  \u001b[31m   \u001b[0m     main_posix('linux', '.so')\n",
      "  \u001b[31m   \u001b[0m   File \"/tmp/pip-install-wk6v9_6c/llvmlite_49575dfcf9034f699f5b010ac6f99959/ffi/build.py\", line 120, in main_posix\n",
      "  \u001b[31m   \u001b[0m     raise RuntimeError(msg)\n",
      "  \u001b[31m   \u001b[0m RuntimeError: Building llvmlite requires LLVM 7.0+ Be sure to set LLVM_CONFIG to the right executable path.\n",
      "  \u001b[31m   \u001b[0m Read the documentation at http://llvmlite.pydata.org/ for more information about building llvmlite.\n",
      "  \u001b[31m   \u001b[0m \n",
      "  \u001b[31m   \u001b[0m error: command '/home/teo/venvs/py39-tortoise/bin/python3.9' failed with exit code 1\n",
      "  \u001b[31m   \u001b[0m \u001b[31m[end of output]\u001b[0m\n",
      "  \n",
      "  \u001b[1;35mnote\u001b[0m: This error originates from a subprocess, and is likely not a problem with pip.\n",
      "\u001b[33m  WARNING: No metadata found in /home/teo/venvs/py39-tortoise/lib/python3.9/site-packages\u001b[0m\u001b[33m\n",
      "\u001b[0m\u001b[?25h  Rolling back uninstall of llvmlite\n",
      "  Moving to /home/teo/venvs/py39-tortoise/lib/python3.9/site-packages/llvmlite-0.39.1.dist-info/\n",
      "   from /home/teo/venvs/py39-tortoise/lib/python3.9/site-packages/~lvmlite-0.39.1.dist-info\n",
      "  Moving to /home/teo/venvs/py39-tortoise/lib/python3.9/site-packages/llvmlite/\n",
      "   from /home/teo/venvs/py39-tortoise/lib/python3.9/site-packages/~lvmlite\n",
      "\u001b[1;31merror\u001b[0m: \u001b[1mlegacy-install-failure\u001b[0m\n",
      "\n",
      "\u001b[31m×\u001b[0m Encountered error while trying to install package.\n",
      "\u001b[31m╰─>\u001b[0m llvmlite\n",
      "\n",
      "\u001b[1;35mnote\u001b[0m: This is an issue with the package mentioned above, not pip.\n",
      "\u001b[1;36mhint\u001b[0m: See above for output from the failure.\n",
      "\u001b[33mWARNING: You are using pip version 22.0.4; however, version 23.1.2 is available.\n",
      "You should consider upgrading via the '/home/teo/venvs/py39-tortoise/bin/python3.9 -m pip install --upgrade pip' command.\u001b[0m\u001b[33m\n",
      "\u001b[0mRequirement already satisfied: transformers==4.19.0 in /home/teo/venvs/py39-tortoise/lib/python3.9/site-packages (4.19.0)\n",
      "Collecting einops==0.5.0\n",
      "  Downloading einops-0.5.0-py3-none-any.whl (36 kB)\n",
      "Collecting rotary_embedding_torch==0.1.5\n",
      "  Downloading rotary_embedding_torch-0.1.5-py3-none-any.whl (4.1 kB)\n",
      "Collecting unidecode==1.3.5\n",
      "  Downloading Unidecode-1.3.5-py3-none-any.whl (236 kB)\n",
      "\u001b[2K     \u001b[38;2;114;156;31m━━━━━━━━━━━━━━━━━━━━━━━━━━━━━━━━━━━━━━━\u001b[0m \u001b[32m236.5/236.5 KB\u001b[0m \u001b[31m2.9 MB/s\u001b[0m eta \u001b[36m0:00:00\u001b[0m[31m3.3 MB/s\u001b[0m eta \u001b[36m0:00:01\u001b[0m\n",
      "\u001b[?25hRequirement already satisfied: huggingface-hub<1.0,>=0.1.0 in /home/teo/venvs/py39-tortoise/lib/python3.9/site-packages (from transformers==4.19.0) (0.13.4)\n",
      "Requirement already satisfied: tokenizers!=0.11.3,<0.13,>=0.11.1 in /home/teo/venvs/py39-tortoise/lib/python3.9/site-packages (from transformers==4.19.0) (0.12.1)\n",
      "Requirement already satisfied: regex!=2019.12.17 in /home/teo/venvs/py39-tortoise/lib/python3.9/site-packages (from transformers==4.19.0) (2023.3.23)\n",
      "Requirement already satisfied: filelock in /home/teo/venvs/py39-tortoise/lib/python3.9/site-packages (from transformers==4.19.0) (3.12.0)\n",
      "Requirement already satisfied: requests in /home/teo/venvs/py39-tortoise/lib/python3.9/site-packages (from transformers==4.19.0) (2.28.2)\n",
      "Requirement already satisfied: pyyaml>=5.1 in /home/teo/venvs/py39-tortoise/lib/python3.9/site-packages (from transformers==4.19.0) (6.0)\n",
      "Requirement already satisfied: packaging>=20.0 in /home/teo/venvs/py39-tortoise/lib/python3.9/site-packages (from transformers==4.19.0) (23.1)\n",
      "Requirement already satisfied: numpy>=1.17 in /home/teo/venvs/py39-tortoise/lib/python3.9/site-packages (from transformers==4.19.0) (1.23.0)\n",
      "Requirement already satisfied: tqdm>=4.27 in /home/teo/venvs/py39-tortoise/lib/python3.9/site-packages (from transformers==4.19.0) (4.65.0)\n",
      "Requirement already satisfied: torch>=1.6 in /home/teo/venvs/py39-tortoise/lib/python3.9/site-packages (from rotary_embedding_torch==0.1.5) (2.0.0)\n",
      "Requirement already satisfied: typing-extensions>=3.7.4.3 in /home/teo/venvs/py39-tortoise/lib/python3.9/site-packages (from huggingface-hub<1.0,>=0.1.0->transformers==4.19.0) (4.5.0)\n",
      "Requirement already satisfied: nvidia-cudnn-cu11==8.5.0.96 in /home/teo/venvs/py39-tortoise/lib/python3.9/site-packages (from torch>=1.6->rotary_embedding_torch==0.1.5) (8.5.0.96)\n",
      "Requirement already satisfied: networkx in /home/teo/venvs/py39-tortoise/lib/python3.9/site-packages (from torch>=1.6->rotary_embedding_torch==0.1.5) (3.1)\n",
      "Requirement already satisfied: sympy in /home/teo/venvs/py39-tortoise/lib/python3.9/site-packages (from torch>=1.6->rotary_embedding_torch==0.1.5) (1.11.1)\n",
      "Requirement already satisfied: nvidia-cuda-cupti-cu11==11.7.101 in /home/teo/venvs/py39-tortoise/lib/python3.9/site-packages (from torch>=1.6->rotary_embedding_torch==0.1.5) (11.7.101)\n",
      "Requirement already satisfied: jinja2 in /home/teo/venvs/py39-tortoise/lib/python3.9/site-packages (from torch>=1.6->rotary_embedding_torch==0.1.5) (3.1.2)\n",
      "Requirement already satisfied: nvidia-cublas-cu11==11.10.3.66 in /home/teo/venvs/py39-tortoise/lib/python3.9/site-packages (from torch>=1.6->rotary_embedding_torch==0.1.5) (11.10.3.66)\n",
      "Requirement already satisfied: nvidia-cufft-cu11==10.9.0.58 in /home/teo/venvs/py39-tortoise/lib/python3.9/site-packages (from torch>=1.6->rotary_embedding_torch==0.1.5) (10.9.0.58)\n",
      "Requirement already satisfied: nvidia-curand-cu11==10.2.10.91 in /home/teo/venvs/py39-tortoise/lib/python3.9/site-packages (from torch>=1.6->rotary_embedding_torch==0.1.5) (10.2.10.91)\n",
      "Requirement already satisfied: nvidia-nccl-cu11==2.14.3 in /home/teo/venvs/py39-tortoise/lib/python3.9/site-packages (from torch>=1.6->rotary_embedding_torch==0.1.5) (2.14.3)\n",
      "Requirement already satisfied: nvidia-nvtx-cu11==11.7.91 in /home/teo/venvs/py39-tortoise/lib/python3.9/site-packages (from torch>=1.6->rotary_embedding_torch==0.1.5) (11.7.91)\n",
      "Requirement already satisfied: nvidia-cusparse-cu11==11.7.4.91 in /home/teo/venvs/py39-tortoise/lib/python3.9/site-packages (from torch>=1.6->rotary_embedding_torch==0.1.5) (11.7.4.91)\n",
      "Requirement already satisfied: nvidia-cuda-runtime-cu11==11.7.99 in /home/teo/venvs/py39-tortoise/lib/python3.9/site-packages (from torch>=1.6->rotary_embedding_torch==0.1.5) (11.7.99)\n",
      "Requirement already satisfied: triton==2.0.0 in /home/teo/venvs/py39-tortoise/lib/python3.9/site-packages (from torch>=1.6->rotary_embedding_torch==0.1.5) (2.0.0)\n",
      "Requirement already satisfied: nvidia-cuda-nvrtc-cu11==11.7.99 in /home/teo/venvs/py39-tortoise/lib/python3.9/site-packages (from torch>=1.6->rotary_embedding_torch==0.1.5) (11.7.99)\n",
      "Requirement already satisfied: nvidia-cusolver-cu11==11.4.0.1 in /home/teo/venvs/py39-tortoise/lib/python3.9/site-packages (from torch>=1.6->rotary_embedding_torch==0.1.5) (11.4.0.1)\n",
      "Requirement already satisfied: setuptools in /home/teo/venvs/py39-tortoise/lib/python3.9/site-packages (from nvidia-cublas-cu11==11.10.3.66->torch>=1.6->rotary_embedding_torch==0.1.5) (58.1.0)\n",
      "Requirement already satisfied: wheel in /home/teo/venvs/py39-tortoise/lib/python3.9/site-packages (from nvidia-cublas-cu11==11.10.3.66->torch>=1.6->rotary_embedding_torch==0.1.5) (0.40.0)\n",
      "Requirement already satisfied: lit in /home/teo/venvs/py39-tortoise/lib/python3.9/site-packages (from triton==2.0.0->torch>=1.6->rotary_embedding_torch==0.1.5) (16.0.1)\n",
      "Requirement already satisfied: cmake in /home/teo/venvs/py39-tortoise/lib/python3.9/site-packages (from triton==2.0.0->torch>=1.6->rotary_embedding_torch==0.1.5) (3.26.3)\n"
     ]
    },
    {
     "name": "stdout",
     "output_type": "stream",
     "text": [
      "Requirement already satisfied: idna<4,>=2.5 in /home/teo/venvs/py39-tortoise/lib/python3.9/site-packages (from requests->transformers==4.19.0) (3.4)\n",
      "Requirement already satisfied: charset-normalizer<4,>=2 in /home/teo/venvs/py39-tortoise/lib/python3.9/site-packages (from requests->transformers==4.19.0) (3.1.0)\n",
      "Requirement already satisfied: urllib3<1.27,>=1.21.1 in /home/teo/venvs/py39-tortoise/lib/python3.9/site-packages (from requests->transformers==4.19.0) (1.26.15)\n",
      "Requirement already satisfied: certifi>=2017.4.17 in /home/teo/venvs/py39-tortoise/lib/python3.9/site-packages (from requests->transformers==4.19.0) (2022.12.7)\n",
      "Requirement already satisfied: MarkupSafe>=2.0 in /home/teo/venvs/py39-tortoise/lib/python3.9/site-packages (from jinja2->torch>=1.6->rotary_embedding_torch==0.1.5) (2.1.2)\n",
      "Requirement already satisfied: mpmath>=0.19 in /home/teo/venvs/py39-tortoise/lib/python3.9/site-packages (from sympy->torch>=1.6->rotary_embedding_torch==0.1.5) (1.3.0)\n",
      "\u001b[33mWARNING: The candidate selected for download or install is a yanked version: 'unidecode' candidate (version 1.3.5 at https://files.pythonhosted.org/packages/7c/bb/a1cea9ce56434cdb59cb4c8b7bf91b190011b7000fb0a12b44fa0a3daa86/Unidecode-1.3.5-py3-none-any.whl#sha256=d30c896583ae2ade4bfd2a6591a7102a51ddcd3c0f05bbf225ffbfe658973141 (from https://pypi.org/simple/unidecode/) (requires-python:>=3.5))\n",
      "Reason for being yanked: wrong version of the code was released in the .whl package\u001b[0m\u001b[33m\n",
      "\u001b[0mInstalling collected packages: unidecode, einops, rotary_embedding_torch\n",
      "  Attempting uninstall: unidecode\n",
      "    Found existing installation: Unidecode 1.3.6\n",
      "    Uninstalling Unidecode-1.3.6:\n",
      "      Successfully uninstalled Unidecode-1.3.6\n",
      "  Attempting uninstall: einops\n",
      "    Found existing installation: einops 0.4.1\n",
      "    Uninstalling einops-0.4.1:\n",
      "      Successfully uninstalled einops-0.4.1\n",
      "  Attempting uninstall: rotary_embedding_torch\n",
      "    Found existing installation: rotary-embedding-torch 0.2.1\n",
      "    Uninstalling rotary-embedding-torch-0.2.1:\n",
      "      Successfully uninstalled rotary-embedding-torch-0.2.1\n",
      "Successfully installed einops-0.5.0 rotary_embedding_torch-0.1.5 unidecode-1.3.5\n",
      "\u001b[33mWARNING: You are using pip version 22.0.4; however, version 23.1.2 is available.\n",
      "You should consider upgrading via the '/home/teo/venvs/py39-tortoise/bin/python3.9 -m pip install --upgrade pip' command.\u001b[0m\u001b[33m\n",
      "\u001b[0mrunning install\n",
      "running bdist_egg\n",
      "running egg_info\n",
      "creating TorToiSe.egg-info\n",
      "writing TorToiSe.egg-info/PKG-INFO\n",
      "writing dependency_links to TorToiSe.egg-info/dependency_links.txt\n",
      "writing requirements to TorToiSe.egg-info/requires.txt\n",
      "writing top-level names to TorToiSe.egg-info/top_level.txt\n",
      "writing manifest file 'TorToiSe.egg-info/SOURCES.txt'\n",
      "reading manifest file 'TorToiSe.egg-info/SOURCES.txt'\n",
      "adding license file 'LICENSE'\n",
      "writing manifest file 'TorToiSe.egg-info/SOURCES.txt'\n",
      "installing library code to build/bdist.linux-x86_64/egg\n",
      "running install_lib\n",
      "running build_py\n",
      "creating build\n",
      "creating build/lib\n",
      "creating build/lib/tortoise\n",
      "copying tortoise/__init__.py -> build/lib/tortoise\n",
      "copying tortoise/read.py -> build/lib/tortoise\n",
      "copying tortoise/do_tts.py -> build/lib/tortoise\n",
      "copying tortoise/api.py -> build/lib/tortoise\n",
      "copying tortoise/get_conditioning_latents.py -> build/lib/tortoise\n",
      "copying tortoise/eval.py -> build/lib/tortoise\n",
      "copying tortoise/is_this_from_tortoise.py -> build/lib/tortoise\n",
      "creating build/lib/tortoise/utils\n",
      "copying tortoise/utils/wav2vec_alignment.py -> build/lib/tortoise/utils\n",
      "copying tortoise/utils/samples_generator.py -> build/lib/tortoise/utils\n",
      "copying tortoise/utils/__init__.py -> build/lib/tortoise/utils\n",
      "copying tortoise/utils/audio.py -> build/lib/tortoise/utils\n",
      "copying tortoise/utils/typical_sampling.py -> build/lib/tortoise/utils\n",
      "copying tortoise/utils/stft.py -> build/lib/tortoise/utils\n",
      "copying tortoise/utils/text.py -> build/lib/tortoise/utils\n",
      "copying tortoise/utils/diffusion.py -> build/lib/tortoise/utils\n",
      "copying tortoise/utils/tokenizer.py -> build/lib/tortoise/utils\n",
      "creating build/lib/tortoise/models\n",
      "copying tortoise/models/arch_util.py -> build/lib/tortoise/models\n",
      "copying tortoise/models/random_latent_generator.py -> build/lib/tortoise/models\n",
      "copying tortoise/models/__init__.py -> build/lib/tortoise/models\n",
      "copying tortoise/models/clvp.py -> build/lib/tortoise/models\n",
      "copying tortoise/models/vocoder.py -> build/lib/tortoise/models\n",
      "copying tortoise/models/diffusion_decoder.py -> build/lib/tortoise/models\n",
      "copying tortoise/models/transformer.py -> build/lib/tortoise/models\n",
      "copying tortoise/models/xtransformers.py -> build/lib/tortoise/models\n",
      "copying tortoise/models/classifier.py -> build/lib/tortoise/models\n",
      "copying tortoise/models/autoregressive.py -> build/lib/tortoise/models\n",
      "copying tortoise/models/cvvp.py -> build/lib/tortoise/models\n",
      "creating build/bdist.linux-x86_64\n",
      "creating build/bdist.linux-x86_64/egg\n",
      "creating build/bdist.linux-x86_64/egg/tortoise\n",
      "creating build/bdist.linux-x86_64/egg/tortoise/utils\n",
      "copying build/lib/tortoise/utils/wav2vec_alignment.py -> build/bdist.linux-x86_64/egg/tortoise/utils\n",
      "copying build/lib/tortoise/utils/samples_generator.py -> build/bdist.linux-x86_64/egg/tortoise/utils\n",
      "copying build/lib/tortoise/utils/__init__.py -> build/bdist.linux-x86_64/egg/tortoise/utils\n",
      "copying build/lib/tortoise/utils/audio.py -> build/bdist.linux-x86_64/egg/tortoise/utils\n",
      "copying build/lib/tortoise/utils/typical_sampling.py -> build/bdist.linux-x86_64/egg/tortoise/utils\n",
      "copying build/lib/tortoise/utils/stft.py -> build/bdist.linux-x86_64/egg/tortoise/utils\n",
      "copying build/lib/tortoise/utils/text.py -> build/bdist.linux-x86_64/egg/tortoise/utils\n",
      "copying build/lib/tortoise/utils/diffusion.py -> build/bdist.linux-x86_64/egg/tortoise/utils\n",
      "copying build/lib/tortoise/utils/tokenizer.py -> build/bdist.linux-x86_64/egg/tortoise/utils\n",
      "copying build/lib/tortoise/__init__.py -> build/bdist.linux-x86_64/egg/tortoise\n",
      "creating build/bdist.linux-x86_64/egg/tortoise/models\n",
      "copying build/lib/tortoise/models/arch_util.py -> build/bdist.linux-x86_64/egg/tortoise/models\n",
      "copying build/lib/tortoise/models/random_latent_generator.py -> build/bdist.linux-x86_64/egg/tortoise/models\n",
      "copying build/lib/tortoise/models/__init__.py -> build/bdist.linux-x86_64/egg/tortoise/models\n",
      "copying build/lib/tortoise/models/clvp.py -> build/bdist.linux-x86_64/egg/tortoise/models\n",
      "copying build/lib/tortoise/models/vocoder.py -> build/bdist.linux-x86_64/egg/tortoise/models\n",
      "copying build/lib/tortoise/models/diffusion_decoder.py -> build/bdist.linux-x86_64/egg/tortoise/models\n",
      "copying build/lib/tortoise/models/transformer.py -> build/bdist.linux-x86_64/egg/tortoise/models\n",
      "copying build/lib/tortoise/models/xtransformers.py -> build/bdist.linux-x86_64/egg/tortoise/models\n",
      "copying build/lib/tortoise/models/classifier.py -> build/bdist.linux-x86_64/egg/tortoise/models\n",
      "copying build/lib/tortoise/models/autoregressive.py -> build/bdist.linux-x86_64/egg/tortoise/models\n",
      "copying build/lib/tortoise/models/cvvp.py -> build/bdist.linux-x86_64/egg/tortoise/models\n",
      "copying build/lib/tortoise/read.py -> build/bdist.linux-x86_64/egg/tortoise\n",
      "copying build/lib/tortoise/do_tts.py -> build/bdist.linux-x86_64/egg/tortoise\n",
      "copying build/lib/tortoise/api.py -> build/bdist.linux-x86_64/egg/tortoise\n",
      "copying build/lib/tortoise/get_conditioning_latents.py -> build/bdist.linux-x86_64/egg/tortoise\n",
      "copying build/lib/tortoise/eval.py -> build/bdist.linux-x86_64/egg/tortoise\n",
      "copying build/lib/tortoise/is_this_from_tortoise.py -> build/bdist.linux-x86_64/egg/tortoise\n",
      "byte-compiling build/bdist.linux-x86_64/egg/tortoise/utils/wav2vec_alignment.py to wav2vec_alignment.cpython-39.pyc\n",
      "byte-compiling build/bdist.linux-x86_64/egg/tortoise/utils/samples_generator.py to samples_generator.cpython-39.pyc\n",
      "byte-compiling build/bdist.linux-x86_64/egg/tortoise/utils/__init__.py to __init__.cpython-39.pyc\n",
      "byte-compiling build/bdist.linux-x86_64/egg/tortoise/utils/audio.py to audio.cpython-39.pyc\n",
      "byte-compiling build/bdist.linux-x86_64/egg/tortoise/utils/typical_sampling.py to typical_sampling.cpython-39.pyc\n",
      "byte-compiling build/bdist.linux-x86_64/egg/tortoise/utils/stft.py to stft.cpython-39.pyc\n",
      "byte-compiling build/bdist.linux-x86_64/egg/tortoise/utils/text.py to text.cpython-39.pyc\n",
      "byte-compiling build/bdist.linux-x86_64/egg/tortoise/utils/diffusion.py to diffusion.cpython-39.pyc\n",
      "byte-compiling build/bdist.linux-x86_64/egg/tortoise/utils/tokenizer.py to tokenizer.cpython-39.pyc\n",
      "byte-compiling build/bdist.linux-x86_64/egg/tortoise/__init__.py to __init__.cpython-39.pyc\n",
      "byte-compiling build/bdist.linux-x86_64/egg/tortoise/models/arch_util.py to arch_util.cpython-39.pyc\n",
      "byte-compiling build/bdist.linux-x86_64/egg/tortoise/models/random_latent_generator.py to random_latent_generator.cpython-39.pyc\n",
      "byte-compiling build/bdist.linux-x86_64/egg/tortoise/models/__init__.py to __init__.cpython-39.pyc\n",
      "byte-compiling build/bdist.linux-x86_64/egg/tortoise/models/clvp.py to clvp.cpython-39.pyc\n",
      "byte-compiling build/bdist.linux-x86_64/egg/tortoise/models/vocoder.py to vocoder.cpython-39.pyc\n",
      "byte-compiling build/bdist.linux-x86_64/egg/tortoise/models/diffusion_decoder.py to diffusion_decoder.cpython-39.pyc\n",
      "byte-compiling build/bdist.linux-x86_64/egg/tortoise/models/transformer.py to transformer.cpython-39.pyc\n",
      "byte-compiling build/bdist.linux-x86_64/egg/tortoise/models/xtransformers.py to xtransformers.cpython-39.pyc\n",
      "byte-compiling build/bdist.linux-x86_64/egg/tortoise/models/classifier.py to classifier.cpython-39.pyc\n",
      "byte-compiling build/bdist.linux-x86_64/egg/tortoise/models/autoregressive.py to autoregressive.cpython-39.pyc\n",
      "byte-compiling build/bdist.linux-x86_64/egg/tortoise/models/cvvp.py to cvvp.cpython-39.pyc\n",
      "byte-compiling build/bdist.linux-x86_64/egg/tortoise/read.py to read.cpython-39.pyc\n",
      "byte-compiling build/bdist.linux-x86_64/egg/tortoise/do_tts.py to do_tts.cpython-39.pyc\n",
      "byte-compiling build/bdist.linux-x86_64/egg/tortoise/api.py to api.cpython-39.pyc\n",
      "byte-compiling build/bdist.linux-x86_64/egg/tortoise/get_conditioning_latents.py to get_conditioning_latents.cpython-39.pyc\n",
      "byte-compiling build/bdist.linux-x86_64/egg/tortoise/eval.py to eval.cpython-39.pyc\n",
      "byte-compiling build/bdist.linux-x86_64/egg/tortoise/is_this_from_tortoise.py to is_this_from_tortoise.cpython-39.pyc\n",
      "creating build/bdist.linux-x86_64/egg/EGG-INFO\n",
      "copying TorToiSe.egg-info/PKG-INFO -> build/bdist.linux-x86_64/egg/EGG-INFO\n",
      "copying TorToiSe.egg-info/SOURCES.txt -> build/bdist.linux-x86_64/egg/EGG-INFO\n",
      "copying TorToiSe.egg-info/dependency_links.txt -> build/bdist.linux-x86_64/egg/EGG-INFO\n",
      "copying TorToiSe.egg-info/requires.txt -> build/bdist.linux-x86_64/egg/EGG-INFO\n",
      "copying TorToiSe.egg-info/top_level.txt -> build/bdist.linux-x86_64/egg/EGG-INFO\n",
      "zip_safe flag not set; analyzing archive contents...\n",
      "creating dist\n",
      "creating 'dist/TorToiSe-2.3.0-py3.9.egg' and adding 'build/bdist.linux-x86_64/egg' to it\n"
     ]
    },
    {
     "name": "stdout",
     "output_type": "stream",
     "text": [
      "removing 'build/bdist.linux-x86_64/egg' (and everything under it)\n",
      "Processing TorToiSe-2.3.0-py3.9.egg\n",
      "Copying TorToiSe-2.3.0-py3.9.egg to /home/teo/venvs/py39-tortoise/lib/python3.9/site-packages\n",
      "Removing TorToiSe 2.4.2 from easy-install.pth file\n",
      "Adding TorToiSe 2.3.0 to easy-install.pth file\n",
      "\n",
      "Installed /home/teo/venvs/py39-tortoise/lib/python3.9/site-packages/TorToiSe-2.3.0-py3.9.egg\n",
      "Processing dependencies for TorToiSe==2.3.0\n",
      "Searching for tokenizers==0.12.1\n",
      "Best match: tokenizers 0.12.1\n",
      "Adding tokenizers 0.12.1 to easy-install.pth file\n",
      "\n",
      "Using /home/teo/venvs/py39-tortoise/lib/python3.9/site-packages\n",
      "Searching for transformers==4.19.0\n",
      "Best match: transformers 4.19.0\n",
      "Adding transformers 4.19.0 to easy-install.pth file\n",
      "Installing transformers-cli script to /home/teo/venvs/py39-tortoise/bin\n",
      "\n",
      "Using /home/teo/venvs/py39-tortoise/lib/python3.9/site-packages\n",
      "Searching for librosa==0.9.1\n",
      "Best match: librosa 0.9.1\n",
      "Adding librosa 0.9.1 to easy-install.pth file\n",
      "\n",
      "Using /home/teo/venvs/py39-tortoise/lib/python3.9/site-packages\n",
      "Searching for scipy==1.10.1\n",
      "Best match: scipy 1.10.1\n",
      "Adding scipy 1.10.1 to easy-install.pth file\n",
      "\n",
      "Using /home/teo/venvs/py39-tortoise/lib/python3.9/site-packages\n",
      "Searching for Unidecode==1.3.5\n",
      "Best match: Unidecode 1.3.5\n",
      "Adding Unidecode 1.3.5 to easy-install.pth file\n",
      "Installing unidecode script to /home/teo/venvs/py39-tortoise/bin\n",
      "\n",
      "Using /home/teo/venvs/py39-tortoise/lib/python3.9/site-packages\n",
      "Searching for einops==0.5.0\n",
      "Best match: einops 0.5.0\n",
      "Adding einops 0.5.0 to easy-install.pth file\n",
      "\n",
      "Using /home/teo/venvs/py39-tortoise/lib/python3.9/site-packages\n",
      "Searching for progressbar==2.5\n",
      "Best match: progressbar 2.5\n",
      "Adding progressbar 2.5 to easy-install.pth file\n",
      "\n",
      "Using /home/teo/venvs/py39-tortoise/lib/python3.9/site-packages\n",
      "Searching for inflect==6.0.4\n",
      "Best match: inflect 6.0.4\n",
      "Adding inflect 6.0.4 to easy-install.pth file\n",
      "\n",
      "Using /home/teo/venvs/py39-tortoise/lib/python3.9/site-packages\n",
      "Searching for rotary-embedding-torch==0.1.5\n",
      "Best match: rotary-embedding-torch 0.1.5\n",
      "Adding rotary-embedding-torch 0.1.5 to easy-install.pth file\n",
      "\n",
      "Using /home/teo/venvs/py39-tortoise/lib/python3.9/site-packages\n",
      "Searching for tqdm==4.65.0\n",
      "Best match: tqdm 4.65.0\n",
      "Adding tqdm 4.65.0 to easy-install.pth file\n",
      "Installing tqdm script to /home/teo/venvs/py39-tortoise/bin\n",
      "\n",
      "Using /home/teo/venvs/py39-tortoise/lib/python3.9/site-packages\n",
      "Searching for requests==2.28.2\n",
      "Best match: requests 2.28.2\n",
      "Adding requests 2.28.2 to easy-install.pth file\n",
      "\n",
      "Using /home/teo/venvs/py39-tortoise/lib/python3.9/site-packages\n",
      "Searching for PyYAML==6.0\n",
      "Best match: PyYAML 6.0\n",
      "Adding PyYAML 6.0 to easy-install.pth file\n",
      "\n",
      "Using /home/teo/venvs/py39-tortoise/lib/python3.9/site-packages\n",
      "Searching for regex==2023.3.23\n",
      "Best match: regex 2023.3.23\n",
      "Adding regex 2023.3.23 to easy-install.pth file\n",
      "\n",
      "Using /home/teo/venvs/py39-tortoise/lib/python3.9/site-packages\n",
      "Searching for filelock==3.12.0\n",
      "Best match: filelock 3.12.0\n",
      "Adding filelock 3.12.0 to easy-install.pth file\n",
      "\n",
      "Using /home/teo/venvs/py39-tortoise/lib/python3.9/site-packages\n",
      "Searching for huggingface-hub==0.13.4\n",
      "Best match: huggingface-hub 0.13.4\n",
      "Adding huggingface-hub 0.13.4 to easy-install.pth file\n",
      "Installing huggingface-cli script to /home/teo/venvs/py39-tortoise/bin\n",
      "\n",
      "Using /home/teo/venvs/py39-tortoise/lib/python3.9/site-packages\n",
      "Searching for numpy==1.23.0\n",
      "Best match: numpy 1.23.0\n",
      "Adding numpy 1.23.0 to easy-install.pth file\n",
      "Installing f2py script to /home/teo/venvs/py39-tortoise/bin\n",
      "Installing f2py3 script to /home/teo/venvs/py39-tortoise/bin\n",
      "Installing f2py3.9 script to /home/teo/venvs/py39-tortoise/bin\n",
      "\n",
      "Using /home/teo/venvs/py39-tortoise/lib/python3.9/site-packages\n",
      "Searching for packaging==23.1\n",
      "Best match: packaging 23.1\n",
      "Adding packaging 23.1 to easy-install.pth file\n",
      "\n",
      "Using /home/teo/venvs/py39-tortoise/lib/python3.9/site-packages\n",
      "Searching for numba==0.56.4\n",
      "Best match: numba 0.56.4\n",
      "Adding numba 0.56.4 to easy-install.pth file\n",
      "\n",
      "Using /home/teo/venvs/py39-tortoise/lib/python3.9/site-packages\n",
      "Searching for resampy==0.4.2\n",
      "Best match: resampy 0.4.2\n",
      "Adding resampy 0.4.2 to easy-install.pth file\n",
      "\n",
      "Using /home/teo/venvs/py39-tortoise/lib/python3.9/site-packages\n",
      "Searching for decorator==5.1.1\n",
      "Best match: decorator 5.1.1\n",
      "Adding decorator 5.1.1 to easy-install.pth file\n",
      "\n",
      "Using /home/teo/venvs/py39-tortoise/lib/python3.9/site-packages\n",
      "Searching for joblib==1.2.0\n",
      "Best match: joblib 1.2.0\n",
      "Adding joblib 1.2.0 to easy-install.pth file\n",
      "\n",
      "Using /home/teo/venvs/py39-tortoise/lib/python3.9/site-packages\n",
      "Searching for soundfile==0.12.1\n",
      "Best match: soundfile 0.12.1\n",
      "Adding soundfile 0.12.1 to easy-install.pth file\n",
      "\n",
      "Using /home/teo/venvs/py39-tortoise/lib/python3.9/site-packages\n",
      "Searching for scikit-learn==1.2.2\n",
      "Best match: scikit-learn 1.2.2\n",
      "Adding scikit-learn 1.2.2 to easy-install.pth file\n",
      "\n",
      "Using /home/teo/venvs/py39-tortoise/lib/python3.9/site-packages\n",
      "Searching for audioread==3.0.0\n",
      "Best match: audioread 3.0.0\n",
      "Adding audioread 3.0.0 to easy-install.pth file\n",
      "\n",
      "Using /home/teo/venvs/py39-tortoise/lib/python3.9/site-packages\n",
      "Searching for pooch==1.7.0\n",
      "Best match: pooch 1.7.0\n",
      "Adding pooch 1.7.0 to easy-install.pth file\n",
      "\n",
      "Using /home/teo/venvs/py39-tortoise/lib/python3.9/site-packages\n",
      "Searching for pydantic==1.10.7\n",
      "Best match: pydantic 1.10.7\n",
      "Adding pydantic 1.10.7 to easy-install.pth file\n",
      "\n",
      "Using /home/teo/venvs/py39-tortoise/lib/python3.9/site-packages\n",
      "Searching for torch==2.0.0\n",
      "Best match: torch 2.0.0\n",
      "Adding torch 2.0.0 to easy-install.pth file\n",
      "Installing convert-caffe2-to-onnx script to /home/teo/venvs/py39-tortoise/bin\n",
      "Installing convert-onnx-to-caffe2 script to /home/teo/venvs/py39-tortoise/bin\n",
      "Installing torchrun script to /home/teo/venvs/py39-tortoise/bin\n",
      "\n",
      "Using /home/teo/venvs/py39-tortoise/lib/python3.9/site-packages\n",
      "Searching for charset-normalizer==3.1.0\n",
      "Best match: charset-normalizer 3.1.0\n",
      "Adding charset-normalizer 3.1.0 to easy-install.pth file\n",
      "Installing normalizer script to /home/teo/venvs/py39-tortoise/bin\n",
      "\n",
      "Using /home/teo/venvs/py39-tortoise/lib/python3.9/site-packages\n",
      "Searching for certifi==2022.12.7\n",
      "Best match: certifi 2022.12.7\n",
      "Adding certifi 2022.12.7 to easy-install.pth file\n",
      "\n",
      "Using /home/teo/venvs/py39-tortoise/lib/python3.9/site-packages\n",
      "Searching for urllib3==1.26.15\n",
      "Best match: urllib3 1.26.15\n",
      "Adding urllib3 1.26.15 to easy-install.pth file\n",
      "\n",
      "Using /home/teo/venvs/py39-tortoise/lib/python3.9/site-packages\n",
      "Searching for idna==3.4\n",
      "Best match: idna 3.4\n",
      "Adding idna 3.4 to easy-install.pth file\n",
      "\n",
      "Using /home/teo/venvs/py39-tortoise/lib/python3.9/site-packages\n",
      "Searching for typing-extensions==4.5.0\n",
      "Best match: typing-extensions 4.5.0\n",
      "Adding typing-extensions 4.5.0 to easy-install.pth file\n",
      "\n",
      "Using /home/teo/venvs/py39-tortoise/lib/python3.9/site-packages\n",
      "Searching for setuptools==58.1.0\n",
      "Best match: setuptools 58.1.0\n",
      "Adding setuptools 58.1.0 to easy-install.pth file\n",
      "\n",
      "Using /home/teo/venvs/py39-tortoise/lib/python3.9/site-packages\n",
      "Searching for llvmlite==0.39.1\n",
      "Best match: llvmlite 0.39.1\n",
      "Adding llvmlite 0.39.1 to easy-install.pth file\n",
      "\n",
      "Using /home/teo/venvs/py39-tortoise/lib/python3.9/site-packages\n",
      "Searching for cffi==1.15.1\n",
      "Best match: cffi 1.15.1\n",
      "Adding cffi 1.15.1 to easy-install.pth file\n",
      "\n",
      "Using /home/teo/venvs/py39-tortoise/lib/python3.9/site-packages\n",
      "Searching for threadpoolctl==3.1.0\n",
      "Best match: threadpoolctl 3.1.0\n",
      "Adding threadpoolctl 3.1.0 to easy-install.pth file\n",
      "\n",
      "Using /home/teo/venvs/py39-tortoise/lib/python3.9/site-packages\n",
      "Searching for platformdirs==3.2.0\n",
      "Best match: platformdirs 3.2.0\n",
      "Adding platformdirs 3.2.0 to easy-install.pth file\n",
      "\n",
      "Using /home/teo/venvs/py39-tortoise/lib/python3.9/site-packages\n",
      "Searching for networkx==3.1\n",
      "Best match: networkx 3.1\n",
      "Adding networkx 3.1 to easy-install.pth file\n",
      "\n",
      "Using /home/teo/venvs/py39-tortoise/lib/python3.9/site-packages\n",
      "Searching for nvidia-cublas-cu11==11.10.3.66\n",
      "Best match: nvidia-cublas-cu11 11.10.3.66\n",
      "Adding nvidia-cublas-cu11 11.10.3.66 to easy-install.pth file\n",
      "\n",
      "Using /home/teo/venvs/py39-tortoise/lib/python3.9/site-packages\n",
      "Searching for nvidia-nvtx-cu11==11.7.91\n",
      "Best match: nvidia-nvtx-cu11 11.7.91\n",
      "Adding nvidia-nvtx-cu11 11.7.91 to easy-install.pth file\n",
      "\n",
      "Using /home/teo/venvs/py39-tortoise/lib/python3.9/site-packages\n",
      "Searching for nvidia-cuda-nvrtc-cu11==11.7.99\n",
      "Best match: nvidia-cuda-nvrtc-cu11 11.7.99\n",
      "Adding nvidia-cuda-nvrtc-cu11 11.7.99 to easy-install.pth file\n",
      "\n",
      "Using /home/teo/venvs/py39-tortoise/lib/python3.9/site-packages\n",
      "Searching for nvidia-cufft-cu11==10.9.0.58\n",
      "Best match: nvidia-cufft-cu11 10.9.0.58\n",
      "Adding nvidia-cufft-cu11 10.9.0.58 to easy-install.pth file\n",
      "\n",
      "Using /home/teo/venvs/py39-tortoise/lib/python3.9/site-packages\n",
      "Searching for nvidia-cusolver-cu11==11.4.0.1\n",
      "Best match: nvidia-cusolver-cu11 11.4.0.1\n",
      "Adding nvidia-cusolver-cu11 11.4.0.1 to easy-install.pth file\n",
      "\n",
      "Using /home/teo/venvs/py39-tortoise/lib/python3.9/site-packages\n",
      "Searching for triton==2.0.0\n",
      "Best match: triton 2.0.0\n",
      "Adding triton 2.0.0 to easy-install.pth file\n",
      "\n",
      "Using /home/teo/venvs/py39-tortoise/lib/python3.9/site-packages\n",
      "Searching for nvidia-cudnn-cu11==8.5.0.96\n",
      "Best match: nvidia-cudnn-cu11 8.5.0.96\n",
      "Adding nvidia-cudnn-cu11 8.5.0.96 to easy-install.pth file\n",
      "\n",
      "Using /home/teo/venvs/py39-tortoise/lib/python3.9/site-packages\n",
      "Searching for nvidia-cuda-runtime-cu11==11.7.99\n"
     ]
    },
    {
     "name": "stdout",
     "output_type": "stream",
     "text": [
      "Best match: nvidia-cuda-runtime-cu11 11.7.99\r\n",
      "Adding nvidia-cuda-runtime-cu11 11.7.99 to easy-install.pth file\r\n",
      "\r\n",
      "Using /home/teo/venvs/py39-tortoise/lib/python3.9/site-packages\r\n",
      "Searching for Jinja2==3.1.2\r\n",
      "Best match: Jinja2 3.1.2\r\n",
      "Adding Jinja2 3.1.2 to easy-install.pth file\r\n",
      "\r\n",
      "Using /home/teo/venvs/py39-tortoise/lib/python3.9/site-packages\r\n",
      "Searching for nvidia-curand-cu11==10.2.10.91\r\n",
      "Best match: nvidia-curand-cu11 10.2.10.91\r\n",
      "Adding nvidia-curand-cu11 10.2.10.91 to easy-install.pth file\r\n",
      "\r\n",
      "Using /home/teo/venvs/py39-tortoise/lib/python3.9/site-packages\r\n",
      "Searching for nvidia-nccl-cu11==2.14.3\r\n",
      "Best match: nvidia-nccl-cu11 2.14.3\r\n",
      "Adding nvidia-nccl-cu11 2.14.3 to easy-install.pth file\r\n",
      "\r\n",
      "Using /home/teo/venvs/py39-tortoise/lib/python3.9/site-packages\r\n",
      "Searching for sympy==1.11.1\r\n",
      "Best match: sympy 1.11.1\r\n",
      "Adding sympy 1.11.1 to easy-install.pth file\r\n",
      "Installing isympy script to /home/teo/venvs/py39-tortoise/bin\r\n",
      "\r\n",
      "Using /home/teo/venvs/py39-tortoise/lib/python3.9/site-packages\r\n",
      "Searching for nvidia-cuda-cupti-cu11==11.7.101\r\n",
      "Best match: nvidia-cuda-cupti-cu11 11.7.101\r\n",
      "Adding nvidia-cuda-cupti-cu11 11.7.101 to easy-install.pth file\r\n",
      "\r\n",
      "Using /home/teo/venvs/py39-tortoise/lib/python3.9/site-packages\r\n",
      "Searching for nvidia-cusparse-cu11==11.7.4.91\r\n",
      "Best match: nvidia-cusparse-cu11 11.7.4.91\r\n",
      "Adding nvidia-cusparse-cu11 11.7.4.91 to easy-install.pth file\r\n",
      "\r\n",
      "Using /home/teo/venvs/py39-tortoise/lib/python3.9/site-packages\r\n",
      "Searching for pycparser==2.21\r\n",
      "Best match: pycparser 2.21\r\n",
      "Adding pycparser 2.21 to easy-install.pth file\r\n",
      "\r\n",
      "Using /home/teo/venvs/py39-tortoise/lib/python3.9/site-packages\r\n",
      "Searching for wheel==0.40.0\r\n",
      "Best match: wheel 0.40.0\r\n",
      "Adding wheel 0.40.0 to easy-install.pth file\r\n",
      "Installing wheel script to /home/teo/venvs/py39-tortoise/bin\r\n",
      "\r\n",
      "Using /home/teo/venvs/py39-tortoise/lib/python3.9/site-packages\r\n",
      "Searching for lit==16.0.1\r\n",
      "Best match: lit 16.0.1\r\n",
      "Adding lit 16.0.1 to easy-install.pth file\r\n",
      "Installing lit script to /home/teo/venvs/py39-tortoise/bin\r\n",
      "\r\n",
      "Using /home/teo/venvs/py39-tortoise/lib/python3.9/site-packages\r\n",
      "Searching for cmake==3.26.3\r\n",
      "Best match: cmake 3.26.3\r\n",
      "Adding cmake 3.26.3 to easy-install.pth file\r\n",
      "Installing cmake script to /home/teo/venvs/py39-tortoise/bin\r\n",
      "Installing cpack script to /home/teo/venvs/py39-tortoise/bin\r\n",
      "Installing ctest script to /home/teo/venvs/py39-tortoise/bin\r\n",
      "\r\n",
      "Using /home/teo/venvs/py39-tortoise/lib/python3.9/site-packages\r\n",
      "Searching for MarkupSafe==2.1.2\r\n",
      "Best match: MarkupSafe 2.1.2\r\n",
      "Adding MarkupSafe 2.1.2 to easy-install.pth file\r\n",
      "\r\n",
      "Using /home/teo/venvs/py39-tortoise/lib/python3.9/site-packages\r\n",
      "Searching for mpmath==1.3.0\r\n",
      "Best match: mpmath 1.3.0\r\n",
      "Adding mpmath 1.3.0 to easy-install.pth file\r\n",
      "\r\n",
      "Using /home/teo/venvs/py39-tortoise/lib/python3.9/site-packages\r\n",
      "Finished processing dependencies for TorToiSe==2.3.0\r\n"
     ]
    }
   ],
   "source": [
    "!pip3 install transformers==4.19.0 einops==0.5.0 rotary_embedding_torch==0.1.5 unidecode==1.3.5\n",
    "!python3 setup.py install"
   ]
  },
  {
   "cell_type": "code",
   "execution_count": 2,
   "metadata": {},
   "outputs": [
    {
     "name": "stdout",
     "output_type": "stream",
     "text": [
      "Collecting torchaudio\n",
      "  Downloading torchaudio-2.0.2-cp310-cp310-manylinux1_x86_64.whl (4.4 MB)\n",
      "\u001b[2K     \u001b[38;2;114;156;31m━━━━━━━━━━━━━━━━━━━━━━━━━━━━━━━━━━━━━━━━\u001b[0m \u001b[32m4.4/4.4 MB\u001b[0m \u001b[31m3.4 MB/s\u001b[0m eta \u001b[36m0:00:00\u001b[0mm eta \u001b[36m0:00:01\u001b[0m[36m0:00:01\u001b[0m\n",
      "\u001b[?25hRequirement already satisfied: torch==2.0.1 in /home/teo/venvs/py310-tortoise/lib/python3.10/site-packages (from torchaudio) (2.0.1)\n",
      "Requirement already satisfied: networkx in /home/teo/venvs/py310-tortoise/lib/python3.10/site-packages (from torch==2.0.1->torchaudio) (3.1)\n",
      "Requirement already satisfied: nvidia-cuda-cupti-cu11==11.7.101 in /home/teo/venvs/py310-tortoise/lib/python3.10/site-packages (from torch==2.0.1->torchaudio) (11.7.101)\n",
      "Requirement already satisfied: filelock in /home/teo/venvs/py310-tortoise/lib/python3.10/site-packages (from torch==2.0.1->torchaudio) (3.12.0)\n",
      "Requirement already satisfied: sympy in /home/teo/venvs/py310-tortoise/lib/python3.10/site-packages (from torch==2.0.1->torchaudio) (1.12)\n",
      "Requirement already satisfied: typing-extensions in /home/teo/venvs/py310-tortoise/lib/python3.10/site-packages (from torch==2.0.1->torchaudio) (4.6.1)\n",
      "Requirement already satisfied: jinja2 in /home/teo/venvs/py310-tortoise/lib/python3.10/site-packages (from torch==2.0.1->torchaudio) (3.1.2)\n",
      "Requirement already satisfied: nvidia-cusolver-cu11==11.4.0.1 in /home/teo/venvs/py310-tortoise/lib/python3.10/site-packages (from torch==2.0.1->torchaudio) (11.4.0.1)\n",
      "Requirement already satisfied: nvidia-nvtx-cu11==11.7.91 in /home/teo/venvs/py310-tortoise/lib/python3.10/site-packages (from torch==2.0.1->torchaudio) (11.7.91)\n",
      "Requirement already satisfied: triton==2.0.0 in /home/teo/venvs/py310-tortoise/lib/python3.10/site-packages (from torch==2.0.1->torchaudio) (2.0.0)\n",
      "Requirement already satisfied: nvidia-cuda-nvrtc-cu11==11.7.99 in /home/teo/venvs/py310-tortoise/lib/python3.10/site-packages (from torch==2.0.1->torchaudio) (11.7.99)\n",
      "Requirement already satisfied: nvidia-curand-cu11==10.2.10.91 in /home/teo/venvs/py310-tortoise/lib/python3.10/site-packages (from torch==2.0.1->torchaudio) (10.2.10.91)\n",
      "Requirement already satisfied: nvidia-cuda-runtime-cu11==11.7.99 in /home/teo/venvs/py310-tortoise/lib/python3.10/site-packages (from torch==2.0.1->torchaudio) (11.7.99)\n",
      "Requirement already satisfied: nvidia-cufft-cu11==10.9.0.58 in /home/teo/venvs/py310-tortoise/lib/python3.10/site-packages (from torch==2.0.1->torchaudio) (10.9.0.58)\n",
      "Requirement already satisfied: nvidia-nccl-cu11==2.14.3 in /home/teo/venvs/py310-tortoise/lib/python3.10/site-packages (from torch==2.0.1->torchaudio) (2.14.3)\n",
      "Requirement already satisfied: nvidia-cublas-cu11==11.10.3.66 in /home/teo/venvs/py310-tortoise/lib/python3.10/site-packages (from torch==2.0.1->torchaudio) (11.10.3.66)\n",
      "Requirement already satisfied: nvidia-cusparse-cu11==11.7.4.91 in /home/teo/venvs/py310-tortoise/lib/python3.10/site-packages (from torch==2.0.1->torchaudio) (11.7.4.91)\n",
      "Requirement already satisfied: nvidia-cudnn-cu11==8.5.0.96 in /home/teo/venvs/py310-tortoise/lib/python3.10/site-packages (from torch==2.0.1->torchaudio) (8.5.0.96)\n",
      "Requirement already satisfied: setuptools in /home/teo/venvs/py310-tortoise/lib/python3.10/site-packages (from nvidia-cublas-cu11==11.10.3.66->torch==2.0.1->torchaudio) (59.6.0)\n",
      "Requirement already satisfied: wheel in /home/teo/venvs/py310-tortoise/lib/python3.10/site-packages (from nvidia-cublas-cu11==11.10.3.66->torch==2.0.1->torchaudio) (0.40.0)\n",
      "Requirement already satisfied: cmake in /home/teo/venvs/py310-tortoise/lib/python3.10/site-packages (from triton==2.0.0->torch==2.0.1->torchaudio) (3.26.3)\n",
      "Requirement already satisfied: lit in /home/teo/venvs/py310-tortoise/lib/python3.10/site-packages (from triton==2.0.0->torch==2.0.1->torchaudio) (16.0.5)\n",
      "Requirement already satisfied: MarkupSafe>=2.0 in /home/teo/venvs/py310-tortoise/lib/python3.10/site-packages (from jinja2->torch==2.0.1->torchaudio) (2.1.2)\n",
      "Requirement already satisfied: mpmath>=0.19 in /home/teo/venvs/py310-tortoise/lib/python3.10/site-packages (from sympy->torch==2.0.1->torchaudio) (1.3.0)\n",
      "Installing collected packages: torchaudio\n",
      "Successfully installed torchaudio-2.0.2\n"
     ]
    }
   ],
   "source": [
    "!pip install torchaudio"
   ]
  },
  {
   "cell_type": "code",
   "execution_count": 6,
   "metadata": {
    "id": "Gen09NM4hONQ"
   },
   "outputs": [
    {
     "name": "stdout",
     "output_type": "stream",
     "text": [
      "Downloading autoregressive.pth from https://huggingface.co/jbetker/tortoise-tts-v2/resolve/main/.models/autoregressive.pth...\n"
     ]
    },
    {
     "name": "stderr",
     "output_type": "stream",
     "text": [
      "100% |##################################################################################################|\n"
     ]
    },
    {
     "name": "stdout",
     "output_type": "stream",
     "text": [
      "Done.\n",
      "Downloading classifier.pth from https://huggingface.co/jbetker/tortoise-tts-v2/resolve/main/.models/classifier.pth...\n"
     ]
    },
    {
     "name": "stderr",
     "output_type": "stream",
     "text": [
      "100% |##################################################################################################|\n"
     ]
    },
    {
     "name": "stdout",
     "output_type": "stream",
     "text": [
      "Done.\n",
      "Downloading clvp2.pth from https://huggingface.co/jbetker/tortoise-tts-v2/resolve/main/.models/clvp2.pth...\n"
     ]
    },
    {
     "name": "stderr",
     "output_type": "stream",
     "text": [
      "100% |##################################################################################################|\n"
     ]
    },
    {
     "name": "stdout",
     "output_type": "stream",
     "text": [
      "Done.\n",
      "Downloading cvvp.pth from https://huggingface.co/jbetker/tortoise-tts-v2/resolve/main/.models/cvvp.pth...\n"
     ]
    },
    {
     "name": "stderr",
     "output_type": "stream",
     "text": [
      "100% |##################################################################################################|\n"
     ]
    },
    {
     "name": "stdout",
     "output_type": "stream",
     "text": [
      "Done.\n",
      "Downloading diffusion_decoder.pth from https://huggingface.co/jbetker/tortoise-tts-v2/resolve/main/.models/diffusion_decoder.pth...\n"
     ]
    },
    {
     "name": "stderr",
     "output_type": "stream",
     "text": [
      "100% |##################################################################################################|\n"
     ]
    },
    {
     "name": "stdout",
     "output_type": "stream",
     "text": [
      "Done.\n",
      "Downloading vocoder.pth from https://huggingface.co/jbetker/tortoise-tts-v2/resolve/main/.models/vocoder.pth...\n"
     ]
    },
    {
     "name": "stderr",
     "output_type": "stream",
     "text": [
      "100% |##################################################################################################|\n"
     ]
    },
    {
     "name": "stdout",
     "output_type": "stream",
     "text": [
      "Done.\n",
      "Downloading rlg_auto.pth from https://huggingface.co/jbetker/tortoise-tts-v2/resolve/main/.models/rlg_auto.pth...\n"
     ]
    },
    {
     "name": "stderr",
     "output_type": "stream",
     "text": [
      "100% |##################################################################################################|\n"
     ]
    },
    {
     "name": "stdout",
     "output_type": "stream",
     "text": [
      "Done.\n",
      "Downloading rlg_diffuser.pth from https://huggingface.co/jbetker/tortoise-tts-v2/resolve/main/.models/rlg_diffuser.pth...\n"
     ]
    },
    {
     "name": "stderr",
     "output_type": "stream",
     "text": [
      "100% |##################################################################################################|\n"
     ]
    },
    {
     "name": "stdout",
     "output_type": "stream",
     "text": [
      "Done.\n"
     ]
    }
   ],
   "source": [
    "# Imports used through the rest of the notebook.\n",
    "import torch\n",
    "import torchaudio\n",
    "import torch.nn as nn\n",
    "import torch.nn.functional as F\n",
    "\n",
    "import IPython\n",
    "\n",
    "from tortoise.api import TextToSpeech\n",
    "from tortoise.utils.audio import load_audio, load_voice, load_voices\n",
    "\n",
    "# This will download all the models used by Tortoise from the HuggingFace hub.\n",
    "tts = TextToSpeech()"
   ]
  },
  {
   "cell_type": "code",
   "execution_count": 7,
   "metadata": {
    "id": "bt_aoxONjfL2"
   },
   "outputs": [],
   "source": [
    "# This is the text that will be spoken.\n",
    "text = \"Thanks for reading this article. I hope you learned something.\"\n",
    "\n",
    "# Pick a \"preset mode\" to determine quality. Options: {\"ultra_fast\", \"fast\" (default), \"standard\", \"high_quality\"}. See docs in api.py\n",
    "preset = \"fast\""
   ]
  },
  {
   "cell_type": "code",
   "execution_count": 11,
   "metadata": {
    "colab": {
     "base_uri": "https://localhost:8080/",
     "height": 215
    },
    "id": "VQgw3KeV8Yqb",
    "outputId": "62cd3804-8a1a-4cef-fea0-3e94a4e81b63"
   },
   "outputs": [],
   "source": [
    "# Optionally, upload use your own voice by running the next two cells. I recommend\n",
    "# you upload at least 2 audio clips. They must be a WAV file, 6-10 seconds long.\n",
    "CUSTOM_VOICE_NAME = \"scarlett\""
   ]
  },
  {
   "cell_type": "code",
   "execution_count": 12,
   "metadata": {
    "colab": {
     "base_uri": "https://localhost:8080/",
     "height": 215
    },
    "id": "VQgw3KeV8Yqb",
    "outputId": "62cd3804-8a1a-4cef-fea0-3e94a4e81b63"
   },
   "outputs": [],
   "source": [
    "# import os\n",
    "# from google.colab import files\n",
    "\n",
    "custom_voice_folder = f\"tortoise/voices/{CUSTOM_VOICE_NAME}\"\n",
    "# os.makedirs(custom_voice_folder)\n",
    "#for i, file_data in enumerate(files.upload().values()):\n",
    "#  with open(os.path.join(custom_voice_folder, f'{i}.wav'), 'wb') as f:\n",
    "#    f.write(file_data)"
   ]
  },
  {
   "cell_type": "code",
   "execution_count": 13,
   "metadata": {
    "colab": {
     "base_uri": "https://localhost:8080/",
     "height": 273
    },
    "id": "jJnJwv3R9uWT",
    "outputId": "d5c09017-e07a-4303-8515-0b0048ae1b49"
   },
   "outputs": [],
   "source": [
    "# Generate speech with the custotm voice.\n",
    "voice_samples, conditioning_latents = load_voice(CUSTOM_VOICE_NAME)"
   ]
  },
  {
   "cell_type": "code",
   "execution_count": null,
   "metadata": {},
   "outputs": [],
   "source": [
    "voice_samples"
   ]
  },
  {
   "cell_type": "code",
   "execution_count": 14,
   "metadata": {
    "colab": {
     "base_uri": "https://localhost:8080/",
     "height": 273
    },
    "id": "jJnJwv3R9uWT",
    "outputId": "d5c09017-e07a-4303-8515-0b0048ae1b49"
   },
   "outputs": [
    {
     "name": "stdout",
     "output_type": "stream",
     "text": [
      "Generating autoregressive samples..\n"
     ]
    },
    {
     "name": "stderr",
     "output_type": "stream",
     "text": [
      "100%|██████████████████████████████████████████████████████████████████████| 6/6 [02:22<00:00, 23.72s/it]\n"
     ]
    },
    {
     "name": "stdout",
     "output_type": "stream",
     "text": [
      "Computing best candidates using CLVP and CVVP\n"
     ]
    },
    {
     "name": "stderr",
     "output_type": "stream",
     "text": [
      "  0%|                                                                              | 0/6 [00:00<?, ?it/s]/home/teo/venvs/py310-tortoise/lib/python3.10/site-packages/torch/utils/checkpoint.py:31: UserWarning: None of the inputs have requires_grad=True. Gradients will be None\n",
      "  warnings.warn(\"None of the inputs have requires_grad=True. Gradients will be None\")\n",
      "  0%|                                                                              | 0/6 [00:00<?, ?it/s]\n"
     ]
    },
    {
     "ename": "OutOfMemoryError",
     "evalue": "CUDA out of memory. Tried to allocate 184.00 MiB (GPU 0; 5.79 GiB total capacity; 4.72 GiB already allocated; 87.88 MiB free; 4.82 GiB reserved in total by PyTorch) If reserved memory is >> allocated memory try setting max_split_size_mb to avoid fragmentation.  See documentation for Memory Management and PYTORCH_CUDA_ALLOC_CONF",
     "output_type": "error",
     "traceback": [
      "\u001b[0;31m---------------------------------------------------------------------------\u001b[0m",
      "\u001b[0;31mOutOfMemoryError\u001b[0m                          Traceback (most recent call last)",
      "Cell \u001b[0;32mIn[14], line 1\u001b[0m\n\u001b[0;32m----> 1\u001b[0m gen \u001b[38;5;241m=\u001b[39m \u001b[43mtts\u001b[49m\u001b[38;5;241;43m.\u001b[39;49m\u001b[43mtts_with_preset\u001b[49m\u001b[43m(\u001b[49m\u001b[43mtext\u001b[49m\u001b[43m,\u001b[49m\u001b[43m \u001b[49m\u001b[43mvoice_samples\u001b[49m\u001b[38;5;241;43m=\u001b[39;49m\u001b[43mvoice_samples\u001b[49m\u001b[43m,\u001b[49m\u001b[43m \u001b[49m\u001b[43mconditioning_latents\u001b[49m\u001b[38;5;241;43m=\u001b[39;49m\u001b[43mconditioning_latents\u001b[49m\u001b[43m,\u001b[49m\u001b[43m \u001b[49m\n\u001b[1;32m      2\u001b[0m \u001b[43m                          \u001b[49m\u001b[43mpreset\u001b[49m\u001b[38;5;241;43m=\u001b[39;49m\u001b[43mpreset\u001b[49m\u001b[43m)\u001b[49m\n\u001b[1;32m      3\u001b[0m torchaudio\u001b[38;5;241m.\u001b[39msave(\u001b[38;5;124mf\u001b[39m\u001b[38;5;124m'\u001b[39m\u001b[38;5;124mgenerated-\u001b[39m\u001b[38;5;132;01m{\u001b[39;00mCUSTOM_VOICE_NAME\u001b[38;5;132;01m}\u001b[39;00m\u001b[38;5;124m.wav\u001b[39m\u001b[38;5;124m'\u001b[39m, gen\u001b[38;5;241m.\u001b[39msqueeze(\u001b[38;5;241m0\u001b[39m)\u001b[38;5;241m.\u001b[39mcpu(), \u001b[38;5;241m24000\u001b[39m)\n\u001b[1;32m      4\u001b[0m IPython\u001b[38;5;241m.\u001b[39mdisplay\u001b[38;5;241m.\u001b[39mAudio(\u001b[38;5;124mf\u001b[39m\u001b[38;5;124m'\u001b[39m\u001b[38;5;124mgenerated-\u001b[39m\u001b[38;5;132;01m{\u001b[39;00mCUSTOM_VOICE_NAME\u001b[38;5;132;01m}\u001b[39;00m\u001b[38;5;124m.wav\u001b[39m\u001b[38;5;124m'\u001b[39m)\n",
      "File \u001b[0;32m~/venvs/py310-tortoise/lib/python3.10/site-packages/TorToiSe-2.3.0-py3.10.egg/tortoise/api.py:289\u001b[0m, in \u001b[0;36mTextToSpeech.tts_with_preset\u001b[0;34m(self, text, preset, **kwargs)\u001b[0m\n\u001b[1;32m    282\u001b[0m presets \u001b[38;5;241m=\u001b[39m {\n\u001b[1;32m    283\u001b[0m     \u001b[38;5;124m'\u001b[39m\u001b[38;5;124multra_fast\u001b[39m\u001b[38;5;124m'\u001b[39m: {\u001b[38;5;124m'\u001b[39m\u001b[38;5;124mnum_autoregressive_samples\u001b[39m\u001b[38;5;124m'\u001b[39m: \u001b[38;5;241m16\u001b[39m, \u001b[38;5;124m'\u001b[39m\u001b[38;5;124mdiffusion_iterations\u001b[39m\u001b[38;5;124m'\u001b[39m: \u001b[38;5;241m30\u001b[39m, \u001b[38;5;124m'\u001b[39m\u001b[38;5;124mcond_free\u001b[39m\u001b[38;5;124m'\u001b[39m: \u001b[38;5;28;01mFalse\u001b[39;00m},\n\u001b[1;32m    284\u001b[0m     \u001b[38;5;124m'\u001b[39m\u001b[38;5;124mfast\u001b[39m\u001b[38;5;124m'\u001b[39m: {\u001b[38;5;124m'\u001b[39m\u001b[38;5;124mnum_autoregressive_samples\u001b[39m\u001b[38;5;124m'\u001b[39m: \u001b[38;5;241m96\u001b[39m, \u001b[38;5;124m'\u001b[39m\u001b[38;5;124mdiffusion_iterations\u001b[39m\u001b[38;5;124m'\u001b[39m: \u001b[38;5;241m80\u001b[39m},\n\u001b[1;32m    285\u001b[0m     \u001b[38;5;124m'\u001b[39m\u001b[38;5;124mstandard\u001b[39m\u001b[38;5;124m'\u001b[39m: {\u001b[38;5;124m'\u001b[39m\u001b[38;5;124mnum_autoregressive_samples\u001b[39m\u001b[38;5;124m'\u001b[39m: \u001b[38;5;241m256\u001b[39m, \u001b[38;5;124m'\u001b[39m\u001b[38;5;124mdiffusion_iterations\u001b[39m\u001b[38;5;124m'\u001b[39m: \u001b[38;5;241m200\u001b[39m},\n\u001b[1;32m    286\u001b[0m     \u001b[38;5;124m'\u001b[39m\u001b[38;5;124mhigh_quality\u001b[39m\u001b[38;5;124m'\u001b[39m: {\u001b[38;5;124m'\u001b[39m\u001b[38;5;124mnum_autoregressive_samples\u001b[39m\u001b[38;5;124m'\u001b[39m: \u001b[38;5;241m256\u001b[39m, \u001b[38;5;124m'\u001b[39m\u001b[38;5;124mdiffusion_iterations\u001b[39m\u001b[38;5;124m'\u001b[39m: \u001b[38;5;241m400\u001b[39m},\n\u001b[1;32m    287\u001b[0m }\n\u001b[1;32m    288\u001b[0m kwargs\u001b[38;5;241m.\u001b[39mupdate(presets[preset])\n\u001b[0;32m--> 289\u001b[0m \u001b[38;5;28;01mreturn\u001b[39;00m \u001b[38;5;28;43mself\u001b[39;49m\u001b[38;5;241;43m.\u001b[39;49m\u001b[43mtts\u001b[49m\u001b[43m(\u001b[49m\u001b[43mtext\u001b[49m\u001b[43m,\u001b[49m\u001b[43m \u001b[49m\u001b[38;5;241;43m*\u001b[39;49m\u001b[38;5;241;43m*\u001b[39;49m\u001b[43mkwargs\u001b[49m\u001b[43m)\u001b[49m\n",
      "File \u001b[0;32m~/venvs/py310-tortoise/lib/python3.10/site-packages/TorToiSe-2.3.0-py3.10.egg/tortoise/api.py:393\u001b[0m, in \u001b[0;36mTextToSpeech.tts\u001b[0;34m(self, text, voice_samples, conditioning_latents, k, verbose, num_autoregressive_samples, temperature, length_penalty, repetition_penalty, top_p, max_mel_tokens, clvp_cvvp_slider, diffusion_iterations, cond_free, cond_free_k, diffusion_temperature, **hf_generate_kwargs)\u001b[0m\n\u001b[1;32m    391\u001b[0m \u001b[38;5;28;01mfor\u001b[39;00m i \u001b[38;5;129;01min\u001b[39;00m \u001b[38;5;28mrange\u001b[39m(batch\u001b[38;5;241m.\u001b[39mshape[\u001b[38;5;241m0\u001b[39m]):\n\u001b[1;32m    392\u001b[0m     batch[i] \u001b[38;5;241m=\u001b[39m fix_autoregressive_output(batch[i], stop_mel_token)\n\u001b[0;32m--> 393\u001b[0m clvp \u001b[38;5;241m=\u001b[39m \u001b[38;5;28;43mself\u001b[39;49m\u001b[38;5;241;43m.\u001b[39;49m\u001b[43mclvp\u001b[49m\u001b[43m(\u001b[49m\u001b[43mtext_tokens\u001b[49m\u001b[38;5;241;43m.\u001b[39;49m\u001b[43mrepeat\u001b[49m\u001b[43m(\u001b[49m\u001b[43mbatch\u001b[49m\u001b[38;5;241;43m.\u001b[39;49m\u001b[43mshape\u001b[49m\u001b[43m[\u001b[49m\u001b[38;5;241;43m0\u001b[39;49m\u001b[43m]\u001b[49m\u001b[43m,\u001b[49m\u001b[43m \u001b[49m\u001b[38;5;241;43m1\u001b[39;49m\u001b[43m)\u001b[49m\u001b[43m,\u001b[49m\u001b[43m \u001b[49m\u001b[43mbatch\u001b[49m\u001b[43m,\u001b[49m\u001b[43m \u001b[49m\u001b[43mreturn_loss\u001b[49m\u001b[38;5;241;43m=\u001b[39;49m\u001b[38;5;28;43;01mFalse\u001b[39;49;00m\u001b[43m)\u001b[49m\n\u001b[1;32m    394\u001b[0m \u001b[38;5;28;01mif\u001b[39;00m auto_conds \u001b[38;5;129;01mis\u001b[39;00m \u001b[38;5;129;01mnot\u001b[39;00m \u001b[38;5;28;01mNone\u001b[39;00m:\n\u001b[1;32m    395\u001b[0m     cvvp_accumulator \u001b[38;5;241m=\u001b[39m \u001b[38;5;241m0\u001b[39m\n",
      "File \u001b[0;32m~/venvs/py310-tortoise/lib/python3.10/site-packages/torch/nn/modules/module.py:1501\u001b[0m, in \u001b[0;36mModule._call_impl\u001b[0;34m(self, *args, **kwargs)\u001b[0m\n\u001b[1;32m   1496\u001b[0m \u001b[38;5;66;03m# If we don't have any hooks, we want to skip the rest of the logic in\u001b[39;00m\n\u001b[1;32m   1497\u001b[0m \u001b[38;5;66;03m# this function, and just call forward.\u001b[39;00m\n\u001b[1;32m   1498\u001b[0m \u001b[38;5;28;01mif\u001b[39;00m \u001b[38;5;129;01mnot\u001b[39;00m (\u001b[38;5;28mself\u001b[39m\u001b[38;5;241m.\u001b[39m_backward_hooks \u001b[38;5;129;01mor\u001b[39;00m \u001b[38;5;28mself\u001b[39m\u001b[38;5;241m.\u001b[39m_backward_pre_hooks \u001b[38;5;129;01mor\u001b[39;00m \u001b[38;5;28mself\u001b[39m\u001b[38;5;241m.\u001b[39m_forward_hooks \u001b[38;5;129;01mor\u001b[39;00m \u001b[38;5;28mself\u001b[39m\u001b[38;5;241m.\u001b[39m_forward_pre_hooks\n\u001b[1;32m   1499\u001b[0m         \u001b[38;5;129;01mor\u001b[39;00m _global_backward_pre_hooks \u001b[38;5;129;01mor\u001b[39;00m _global_backward_hooks\n\u001b[1;32m   1500\u001b[0m         \u001b[38;5;129;01mor\u001b[39;00m _global_forward_hooks \u001b[38;5;129;01mor\u001b[39;00m _global_forward_pre_hooks):\n\u001b[0;32m-> 1501\u001b[0m     \u001b[38;5;28;01mreturn\u001b[39;00m \u001b[43mforward_call\u001b[49m\u001b[43m(\u001b[49m\u001b[38;5;241;43m*\u001b[39;49m\u001b[43margs\u001b[49m\u001b[43m,\u001b[49m\u001b[43m \u001b[49m\u001b[38;5;241;43m*\u001b[39;49m\u001b[38;5;241;43m*\u001b[39;49m\u001b[43mkwargs\u001b[49m\u001b[43m)\u001b[49m\n\u001b[1;32m   1502\u001b[0m \u001b[38;5;66;03m# Do not call functions when jit is used\u001b[39;00m\n\u001b[1;32m   1503\u001b[0m full_backward_hooks, non_full_backward_hooks \u001b[38;5;241m=\u001b[39m [], []\n",
      "File \u001b[0;32m~/venvs/py310-tortoise/lib/python3.10/site-packages/TorToiSe-2.3.0-py3.10.egg/tortoise/models/clvp.py:121\u001b[0m, in \u001b[0;36mCLVP.forward\u001b[0;34m(self, text, speech_tokens, return_loss)\u001b[0m\n\u001b[1;32m    118\u001b[0m     speech_emb \u001b[38;5;241m+\u001b[39m\u001b[38;5;241m=\u001b[39m \u001b[38;5;28mself\u001b[39m\u001b[38;5;241m.\u001b[39mspeech_pos_emb(torch\u001b[38;5;241m.\u001b[39marange(speech_emb\u001b[38;5;241m.\u001b[39mshape[\u001b[38;5;241m1\u001b[39m], device\u001b[38;5;241m=\u001b[39mdevice))\n\u001b[1;32m    120\u001b[0m enc_text \u001b[38;5;241m=\u001b[39m \u001b[38;5;28mself\u001b[39m\u001b[38;5;241m.\u001b[39mtext_transformer(text_emb, mask\u001b[38;5;241m=\u001b[39mtext_mask)\n\u001b[0;32m--> 121\u001b[0m enc_speech \u001b[38;5;241m=\u001b[39m \u001b[38;5;28;43mself\u001b[39;49m\u001b[38;5;241;43m.\u001b[39;49m\u001b[43mspeech_transformer\u001b[49m\u001b[43m(\u001b[49m\u001b[43mspeech_emb\u001b[49m\u001b[43m,\u001b[49m\u001b[43m \u001b[49m\u001b[43mmask\u001b[49m\u001b[38;5;241;43m=\u001b[39;49m\u001b[43mvoice_mask\u001b[49m\u001b[43m)\u001b[49m\n\u001b[1;32m    123\u001b[0m text_latents \u001b[38;5;241m=\u001b[39m masked_mean(enc_text, text_mask, dim\u001b[38;5;241m=\u001b[39m\u001b[38;5;241m1\u001b[39m)\n\u001b[1;32m    124\u001b[0m speech_latents \u001b[38;5;241m=\u001b[39m masked_mean(enc_speech, voice_mask, dim\u001b[38;5;241m=\u001b[39m\u001b[38;5;241m1\u001b[39m)\n",
      "File \u001b[0;32m~/venvs/py310-tortoise/lib/python3.10/site-packages/torch/nn/modules/module.py:1501\u001b[0m, in \u001b[0;36mModule._call_impl\u001b[0;34m(self, *args, **kwargs)\u001b[0m\n\u001b[1;32m   1496\u001b[0m \u001b[38;5;66;03m# If we don't have any hooks, we want to skip the rest of the logic in\u001b[39;00m\n\u001b[1;32m   1497\u001b[0m \u001b[38;5;66;03m# this function, and just call forward.\u001b[39;00m\n\u001b[1;32m   1498\u001b[0m \u001b[38;5;28;01mif\u001b[39;00m \u001b[38;5;129;01mnot\u001b[39;00m (\u001b[38;5;28mself\u001b[39m\u001b[38;5;241m.\u001b[39m_backward_hooks \u001b[38;5;129;01mor\u001b[39;00m \u001b[38;5;28mself\u001b[39m\u001b[38;5;241m.\u001b[39m_backward_pre_hooks \u001b[38;5;129;01mor\u001b[39;00m \u001b[38;5;28mself\u001b[39m\u001b[38;5;241m.\u001b[39m_forward_hooks \u001b[38;5;129;01mor\u001b[39;00m \u001b[38;5;28mself\u001b[39m\u001b[38;5;241m.\u001b[39m_forward_pre_hooks\n\u001b[1;32m   1499\u001b[0m         \u001b[38;5;129;01mor\u001b[39;00m _global_backward_pre_hooks \u001b[38;5;129;01mor\u001b[39;00m _global_backward_hooks\n\u001b[1;32m   1500\u001b[0m         \u001b[38;5;129;01mor\u001b[39;00m _global_forward_hooks \u001b[38;5;129;01mor\u001b[39;00m _global_forward_pre_hooks):\n\u001b[0;32m-> 1501\u001b[0m     \u001b[38;5;28;01mreturn\u001b[39;00m \u001b[43mforward_call\u001b[49m\u001b[43m(\u001b[49m\u001b[38;5;241;43m*\u001b[39;49m\u001b[43margs\u001b[49m\u001b[43m,\u001b[49m\u001b[43m \u001b[49m\u001b[38;5;241;43m*\u001b[39;49m\u001b[38;5;241;43m*\u001b[39;49m\u001b[43mkwargs\u001b[49m\u001b[43m)\u001b[49m\n\u001b[1;32m   1502\u001b[0m \u001b[38;5;66;03m# Do not call functions when jit is used\u001b[39;00m\n\u001b[1;32m   1503\u001b[0m full_backward_hooks, non_full_backward_hooks \u001b[38;5;241m=\u001b[39m [], []\n",
      "File \u001b[0;32m~/venvs/py310-tortoise/lib/python3.10/site-packages/TorToiSe-2.3.0-py3.10.egg/tortoise/models/arch_util.py:364\u001b[0m, in \u001b[0;36mCheckpointedXTransformerEncoder.forward\u001b[0;34m(self, x, **kwargs)\u001b[0m\n\u001b[1;32m    362\u001b[0m \u001b[38;5;28;01mif\u001b[39;00m \u001b[38;5;28mself\u001b[39m\u001b[38;5;241m.\u001b[39mneeds_permute:\n\u001b[1;32m    363\u001b[0m     x \u001b[38;5;241m=\u001b[39m x\u001b[38;5;241m.\u001b[39mpermute(\u001b[38;5;241m0\u001b[39m,\u001b[38;5;241m2\u001b[39m,\u001b[38;5;241m1\u001b[39m)\n\u001b[0;32m--> 364\u001b[0m h \u001b[38;5;241m=\u001b[39m \u001b[38;5;28;43mself\u001b[39;49m\u001b[38;5;241;43m.\u001b[39;49m\u001b[43mtransformer\u001b[49m\u001b[43m(\u001b[49m\u001b[43mx\u001b[49m\u001b[43m,\u001b[49m\u001b[43m \u001b[49m\u001b[38;5;241;43m*\u001b[39;49m\u001b[38;5;241;43m*\u001b[39;49m\u001b[43mkwargs\u001b[49m\u001b[43m)\u001b[49m\n\u001b[1;32m    365\u001b[0m \u001b[38;5;28;01mif\u001b[39;00m \u001b[38;5;28mself\u001b[39m\u001b[38;5;241m.\u001b[39mexit_permute:\n\u001b[1;32m    366\u001b[0m     h \u001b[38;5;241m=\u001b[39m h\u001b[38;5;241m.\u001b[39mpermute(\u001b[38;5;241m0\u001b[39m,\u001b[38;5;241m2\u001b[39m,\u001b[38;5;241m1\u001b[39m)\n",
      "File \u001b[0;32m~/venvs/py310-tortoise/lib/python3.10/site-packages/torch/nn/modules/module.py:1501\u001b[0m, in \u001b[0;36mModule._call_impl\u001b[0;34m(self, *args, **kwargs)\u001b[0m\n\u001b[1;32m   1496\u001b[0m \u001b[38;5;66;03m# If we don't have any hooks, we want to skip the rest of the logic in\u001b[39;00m\n\u001b[1;32m   1497\u001b[0m \u001b[38;5;66;03m# this function, and just call forward.\u001b[39;00m\n\u001b[1;32m   1498\u001b[0m \u001b[38;5;28;01mif\u001b[39;00m \u001b[38;5;129;01mnot\u001b[39;00m (\u001b[38;5;28mself\u001b[39m\u001b[38;5;241m.\u001b[39m_backward_hooks \u001b[38;5;129;01mor\u001b[39;00m \u001b[38;5;28mself\u001b[39m\u001b[38;5;241m.\u001b[39m_backward_pre_hooks \u001b[38;5;129;01mor\u001b[39;00m \u001b[38;5;28mself\u001b[39m\u001b[38;5;241m.\u001b[39m_forward_hooks \u001b[38;5;129;01mor\u001b[39;00m \u001b[38;5;28mself\u001b[39m\u001b[38;5;241m.\u001b[39m_forward_pre_hooks\n\u001b[1;32m   1499\u001b[0m         \u001b[38;5;129;01mor\u001b[39;00m _global_backward_pre_hooks \u001b[38;5;129;01mor\u001b[39;00m _global_backward_hooks\n\u001b[1;32m   1500\u001b[0m         \u001b[38;5;129;01mor\u001b[39;00m _global_forward_hooks \u001b[38;5;129;01mor\u001b[39;00m _global_forward_pre_hooks):\n\u001b[0;32m-> 1501\u001b[0m     \u001b[38;5;28;01mreturn\u001b[39;00m \u001b[43mforward_call\u001b[49m\u001b[43m(\u001b[49m\u001b[38;5;241;43m*\u001b[39;49m\u001b[43margs\u001b[49m\u001b[43m,\u001b[49m\u001b[43m \u001b[49m\u001b[38;5;241;43m*\u001b[39;49m\u001b[38;5;241;43m*\u001b[39;49m\u001b[43mkwargs\u001b[49m\u001b[43m)\u001b[49m\n\u001b[1;32m   1502\u001b[0m \u001b[38;5;66;03m# Do not call functions when jit is used\u001b[39;00m\n\u001b[1;32m   1503\u001b[0m full_backward_hooks, non_full_backward_hooks \u001b[38;5;241m=\u001b[39m [], []\n",
      "File \u001b[0;32m~/venvs/py310-tortoise/lib/python3.10/site-packages/TorToiSe-2.3.0-py3.10.egg/tortoise/models/xtransformers.py:1237\u001b[0m, in \u001b[0;36mContinuousTransformerWrapper.forward\u001b[0;34m(self, x, return_embeddings, mask, return_attn, mems, use_cache, **kwargs)\u001b[0m\n\u001b[1;32m   1234\u001b[0m x \u001b[38;5;241m=\u001b[39m x \u001b[38;5;241m+\u001b[39m \u001b[38;5;28mself\u001b[39m\u001b[38;5;241m.\u001b[39mpos_emb(x)\n\u001b[1;32m   1235\u001b[0m x \u001b[38;5;241m=\u001b[39m \u001b[38;5;28mself\u001b[39m\u001b[38;5;241m.\u001b[39memb_dropout(x)\n\u001b[0;32m-> 1237\u001b[0m x, intermediates \u001b[38;5;241m=\u001b[39m \u001b[38;5;28;43mself\u001b[39;49m\u001b[38;5;241;43m.\u001b[39;49m\u001b[43mattn_layers\u001b[49m\u001b[43m(\u001b[49m\u001b[43mx\u001b[49m\u001b[43m,\u001b[49m\u001b[43m \u001b[49m\u001b[43mmask\u001b[49m\u001b[38;5;241;43m=\u001b[39;49m\u001b[43mmask\u001b[49m\u001b[43m,\u001b[49m\u001b[43m \u001b[49m\u001b[43mmems\u001b[49m\u001b[38;5;241;43m=\u001b[39;49m\u001b[43mmems\u001b[49m\u001b[43m,\u001b[49m\u001b[43m \u001b[49m\u001b[43mreturn_hiddens\u001b[49m\u001b[38;5;241;43m=\u001b[39;49m\u001b[38;5;28;43;01mTrue\u001b[39;49;00m\u001b[43m,\u001b[49m\u001b[43m \u001b[49m\u001b[38;5;241;43m*\u001b[39;49m\u001b[38;5;241;43m*\u001b[39;49m\u001b[43mkwargs\u001b[49m\u001b[43m)\u001b[49m\n\u001b[1;32m   1238\u001b[0m x \u001b[38;5;241m=\u001b[39m \u001b[38;5;28mself\u001b[39m\u001b[38;5;241m.\u001b[39mnorm(x)\n\u001b[1;32m   1240\u001b[0m out \u001b[38;5;241m=\u001b[39m \u001b[38;5;28mself\u001b[39m\u001b[38;5;241m.\u001b[39mproject_out(x) \u001b[38;5;28;01mif\u001b[39;00m \u001b[38;5;129;01mnot\u001b[39;00m return_embeddings \u001b[38;5;28;01melse\u001b[39;00m x\n",
      "File \u001b[0;32m~/venvs/py310-tortoise/lib/python3.10/site-packages/torch/nn/modules/module.py:1501\u001b[0m, in \u001b[0;36mModule._call_impl\u001b[0;34m(self, *args, **kwargs)\u001b[0m\n\u001b[1;32m   1496\u001b[0m \u001b[38;5;66;03m# If we don't have any hooks, we want to skip the rest of the logic in\u001b[39;00m\n\u001b[1;32m   1497\u001b[0m \u001b[38;5;66;03m# this function, and just call forward.\u001b[39;00m\n\u001b[1;32m   1498\u001b[0m \u001b[38;5;28;01mif\u001b[39;00m \u001b[38;5;129;01mnot\u001b[39;00m (\u001b[38;5;28mself\u001b[39m\u001b[38;5;241m.\u001b[39m_backward_hooks \u001b[38;5;129;01mor\u001b[39;00m \u001b[38;5;28mself\u001b[39m\u001b[38;5;241m.\u001b[39m_backward_pre_hooks \u001b[38;5;129;01mor\u001b[39;00m \u001b[38;5;28mself\u001b[39m\u001b[38;5;241m.\u001b[39m_forward_hooks \u001b[38;5;129;01mor\u001b[39;00m \u001b[38;5;28mself\u001b[39m\u001b[38;5;241m.\u001b[39m_forward_pre_hooks\n\u001b[1;32m   1499\u001b[0m         \u001b[38;5;129;01mor\u001b[39;00m _global_backward_pre_hooks \u001b[38;5;129;01mor\u001b[39;00m _global_backward_hooks\n\u001b[1;32m   1500\u001b[0m         \u001b[38;5;129;01mor\u001b[39;00m _global_forward_hooks \u001b[38;5;129;01mor\u001b[39;00m _global_forward_pre_hooks):\n\u001b[0;32m-> 1501\u001b[0m     \u001b[38;5;28;01mreturn\u001b[39;00m \u001b[43mforward_call\u001b[49m\u001b[43m(\u001b[49m\u001b[38;5;241;43m*\u001b[39;49m\u001b[43margs\u001b[49m\u001b[43m,\u001b[49m\u001b[43m \u001b[49m\u001b[38;5;241;43m*\u001b[39;49m\u001b[38;5;241;43m*\u001b[39;49m\u001b[43mkwargs\u001b[49m\u001b[43m)\u001b[49m\n\u001b[1;32m   1502\u001b[0m \u001b[38;5;66;03m# Do not call functions when jit is used\u001b[39;00m\n\u001b[1;32m   1503\u001b[0m full_backward_hooks, non_full_backward_hooks \u001b[38;5;241m=\u001b[39m [], []\n",
      "File \u001b[0;32m~/venvs/py310-tortoise/lib/python3.10/site-packages/TorToiSe-2.3.0-py3.10.egg/tortoise/models/xtransformers.py:972\u001b[0m, in \u001b[0;36mAttentionLayers.forward\u001b[0;34m(self, x, context, full_context, mask, context_mask, attn_mask, mems, return_hiddens, norm_scale_shift_inp, past_key_values, expected_seq_len)\u001b[0m\n\u001b[1;32m    969\u001b[0m         layer_past \u001b[38;5;241m=\u001b[39m \u001b[38;5;28;01mNone\u001b[39;00m\n\u001b[1;32m    971\u001b[0m \u001b[38;5;28;01mif\u001b[39;00m layer_type \u001b[38;5;241m==\u001b[39m \u001b[38;5;124m'\u001b[39m\u001b[38;5;124ma\u001b[39m\u001b[38;5;124m'\u001b[39m:\n\u001b[0;32m--> 972\u001b[0m     out, inter, k, v \u001b[38;5;241m=\u001b[39m \u001b[43mcheckpoint\u001b[49m\u001b[43m(\u001b[49m\u001b[43mblock\u001b[49m\u001b[43m,\u001b[49m\u001b[43m \u001b[49m\u001b[43mx\u001b[49m\u001b[43m,\u001b[49m\u001b[43m \u001b[49m\u001b[38;5;28;43;01mNone\u001b[39;49;00m\u001b[43m,\u001b[49m\u001b[43m \u001b[49m\u001b[43mmask\u001b[49m\u001b[43m,\u001b[49m\u001b[43m \u001b[49m\u001b[38;5;28;43;01mNone\u001b[39;49;00m\u001b[43m,\u001b[49m\u001b[43m \u001b[49m\u001b[43mattn_mask\u001b[49m\u001b[43m,\u001b[49m\u001b[43m \u001b[49m\u001b[38;5;28;43mself\u001b[39;49m\u001b[38;5;241;43m.\u001b[39;49m\u001b[43mpia_pos_emb\u001b[49m\u001b[43m,\u001b[49m\u001b[43m \u001b[49m\u001b[43mrotary_pos_emb\u001b[49m\u001b[43m,\u001b[49m\n\u001b[1;32m    973\u001b[0m \u001b[43m                            \u001b[49m\u001b[43mprev_attn\u001b[49m\u001b[43m,\u001b[49m\u001b[43m \u001b[49m\u001b[43mlayer_mem\u001b[49m\u001b[43m,\u001b[49m\u001b[43m \u001b[49m\u001b[43mlayer_past\u001b[49m\u001b[43m)\u001b[49m\n\u001b[1;32m    974\u001b[0m \u001b[38;5;28;01melif\u001b[39;00m layer_type \u001b[38;5;241m==\u001b[39m \u001b[38;5;124m'\u001b[39m\u001b[38;5;124mc\u001b[39m\u001b[38;5;124m'\u001b[39m:\n\u001b[1;32m    975\u001b[0m     \u001b[38;5;28;01mif\u001b[39;00m exists(full_context):\n",
      "File \u001b[0;32m~/venvs/py310-tortoise/lib/python3.10/site-packages/torch/utils/checkpoint.py:249\u001b[0m, in \u001b[0;36mcheckpoint\u001b[0;34m(function, use_reentrant, *args, **kwargs)\u001b[0m\n\u001b[1;32m    246\u001b[0m     \u001b[38;5;28;01mraise\u001b[39;00m \u001b[38;5;167;01mValueError\u001b[39;00m(\u001b[38;5;124m\"\u001b[39m\u001b[38;5;124mUnexpected keyword arguments: \u001b[39m\u001b[38;5;124m\"\u001b[39m \u001b[38;5;241m+\u001b[39m \u001b[38;5;124m\"\u001b[39m\u001b[38;5;124m,\u001b[39m\u001b[38;5;124m\"\u001b[39m\u001b[38;5;241m.\u001b[39mjoin(arg \u001b[38;5;28;01mfor\u001b[39;00m arg \u001b[38;5;129;01min\u001b[39;00m kwargs))\n\u001b[1;32m    248\u001b[0m \u001b[38;5;28;01mif\u001b[39;00m use_reentrant:\n\u001b[0;32m--> 249\u001b[0m     \u001b[38;5;28;01mreturn\u001b[39;00m \u001b[43mCheckpointFunction\u001b[49m\u001b[38;5;241;43m.\u001b[39;49m\u001b[43mapply\u001b[49m\u001b[43m(\u001b[49m\u001b[43mfunction\u001b[49m\u001b[43m,\u001b[49m\u001b[43m \u001b[49m\u001b[43mpreserve\u001b[49m\u001b[43m,\u001b[49m\u001b[43m \u001b[49m\u001b[38;5;241;43m*\u001b[39;49m\u001b[43margs\u001b[49m\u001b[43m)\u001b[49m\n\u001b[1;32m    250\u001b[0m \u001b[38;5;28;01melse\u001b[39;00m:\n\u001b[1;32m    251\u001b[0m     \u001b[38;5;28;01mreturn\u001b[39;00m _checkpoint_without_reentrant(\n\u001b[1;32m    252\u001b[0m         function,\n\u001b[1;32m    253\u001b[0m         preserve,\n\u001b[1;32m    254\u001b[0m         \u001b[38;5;241m*\u001b[39margs,\n\u001b[1;32m    255\u001b[0m         \u001b[38;5;241m*\u001b[39m\u001b[38;5;241m*\u001b[39mkwargs,\n\u001b[1;32m    256\u001b[0m     )\n",
      "File \u001b[0;32m~/venvs/py310-tortoise/lib/python3.10/site-packages/torch/autograd/function.py:506\u001b[0m, in \u001b[0;36mFunction.apply\u001b[0;34m(cls, *args, **kwargs)\u001b[0m\n\u001b[1;32m    503\u001b[0m \u001b[38;5;28;01mif\u001b[39;00m \u001b[38;5;129;01mnot\u001b[39;00m torch\u001b[38;5;241m.\u001b[39m_C\u001b[38;5;241m.\u001b[39m_are_functorch_transforms_active():\n\u001b[1;32m    504\u001b[0m     \u001b[38;5;66;03m# See NOTE: [functorch vjp and autograd interaction]\u001b[39;00m\n\u001b[1;32m    505\u001b[0m     args \u001b[38;5;241m=\u001b[39m _functorch\u001b[38;5;241m.\u001b[39mutils\u001b[38;5;241m.\u001b[39munwrap_dead_wrappers(args)\n\u001b[0;32m--> 506\u001b[0m     \u001b[38;5;28;01mreturn\u001b[39;00m \u001b[38;5;28;43msuper\u001b[39;49m\u001b[43m(\u001b[49m\u001b[43m)\u001b[49m\u001b[38;5;241;43m.\u001b[39;49m\u001b[43mapply\u001b[49m\u001b[43m(\u001b[49m\u001b[38;5;241;43m*\u001b[39;49m\u001b[43margs\u001b[49m\u001b[43m,\u001b[49m\u001b[43m \u001b[49m\u001b[38;5;241;43m*\u001b[39;49m\u001b[38;5;241;43m*\u001b[39;49m\u001b[43mkwargs\u001b[49m\u001b[43m)\u001b[49m  \u001b[38;5;66;03m# type: ignore[misc]\u001b[39;00m\n\u001b[1;32m    508\u001b[0m \u001b[38;5;28;01mif\u001b[39;00m \u001b[38;5;28mcls\u001b[39m\u001b[38;5;241m.\u001b[39msetup_context \u001b[38;5;241m==\u001b[39m _SingleLevelFunction\u001b[38;5;241m.\u001b[39msetup_context:\n\u001b[1;32m    509\u001b[0m     \u001b[38;5;28;01mraise\u001b[39;00m \u001b[38;5;167;01mRuntimeError\u001b[39;00m(\n\u001b[1;32m    510\u001b[0m         \u001b[38;5;124m'\u001b[39m\u001b[38;5;124mIn order to use an autograd.Function with functorch transforms \u001b[39m\u001b[38;5;124m'\u001b[39m\n\u001b[1;32m    511\u001b[0m         \u001b[38;5;124m'\u001b[39m\u001b[38;5;124m(vmap, grad, jvp, jacrev, ...), it must override the setup_context \u001b[39m\u001b[38;5;124m'\u001b[39m\n\u001b[1;32m    512\u001b[0m         \u001b[38;5;124m'\u001b[39m\u001b[38;5;124mstaticmethod. For more details, please see \u001b[39m\u001b[38;5;124m'\u001b[39m\n\u001b[1;32m    513\u001b[0m         \u001b[38;5;124m'\u001b[39m\u001b[38;5;124mhttps://pytorch.org/docs/master/notes/extending.func.html\u001b[39m\u001b[38;5;124m'\u001b[39m)\n",
      "File \u001b[0;32m~/venvs/py310-tortoise/lib/python3.10/site-packages/torch/utils/checkpoint.py:107\u001b[0m, in \u001b[0;36mCheckpointFunction.forward\u001b[0;34m(ctx, run_function, preserve_rng_state, *args)\u001b[0m\n\u001b[1;32m    104\u001b[0m ctx\u001b[38;5;241m.\u001b[39msave_for_backward(\u001b[38;5;241m*\u001b[39mtensor_inputs)\n\u001b[1;32m    106\u001b[0m \u001b[38;5;28;01mwith\u001b[39;00m torch\u001b[38;5;241m.\u001b[39mno_grad():\n\u001b[0;32m--> 107\u001b[0m     outputs \u001b[38;5;241m=\u001b[39m \u001b[43mrun_function\u001b[49m\u001b[43m(\u001b[49m\u001b[38;5;241;43m*\u001b[39;49m\u001b[43margs\u001b[49m\u001b[43m)\u001b[49m\n\u001b[1;32m    108\u001b[0m \u001b[38;5;28;01mreturn\u001b[39;00m outputs\n",
      "File \u001b[0;32m~/venvs/py310-tortoise/lib/python3.10/site-packages/torch/nn/modules/module.py:1501\u001b[0m, in \u001b[0;36mModule._call_impl\u001b[0;34m(self, *args, **kwargs)\u001b[0m\n\u001b[1;32m   1496\u001b[0m \u001b[38;5;66;03m# If we don't have any hooks, we want to skip the rest of the logic in\u001b[39;00m\n\u001b[1;32m   1497\u001b[0m \u001b[38;5;66;03m# this function, and just call forward.\u001b[39;00m\n\u001b[1;32m   1498\u001b[0m \u001b[38;5;28;01mif\u001b[39;00m \u001b[38;5;129;01mnot\u001b[39;00m (\u001b[38;5;28mself\u001b[39m\u001b[38;5;241m.\u001b[39m_backward_hooks \u001b[38;5;129;01mor\u001b[39;00m \u001b[38;5;28mself\u001b[39m\u001b[38;5;241m.\u001b[39m_backward_pre_hooks \u001b[38;5;129;01mor\u001b[39;00m \u001b[38;5;28mself\u001b[39m\u001b[38;5;241m.\u001b[39m_forward_hooks \u001b[38;5;129;01mor\u001b[39;00m \u001b[38;5;28mself\u001b[39m\u001b[38;5;241m.\u001b[39m_forward_pre_hooks\n\u001b[1;32m   1499\u001b[0m         \u001b[38;5;129;01mor\u001b[39;00m _global_backward_pre_hooks \u001b[38;5;129;01mor\u001b[39;00m _global_backward_hooks\n\u001b[1;32m   1500\u001b[0m         \u001b[38;5;129;01mor\u001b[39;00m _global_forward_hooks \u001b[38;5;129;01mor\u001b[39;00m _global_forward_pre_hooks):\n\u001b[0;32m-> 1501\u001b[0m     \u001b[38;5;28;01mreturn\u001b[39;00m \u001b[43mforward_call\u001b[49m\u001b[43m(\u001b[49m\u001b[38;5;241;43m*\u001b[39;49m\u001b[43margs\u001b[49m\u001b[43m,\u001b[49m\u001b[43m \u001b[49m\u001b[38;5;241;43m*\u001b[39;49m\u001b[38;5;241;43m*\u001b[39;49m\u001b[43mkwargs\u001b[49m\u001b[43m)\u001b[49m\n\u001b[1;32m   1502\u001b[0m \u001b[38;5;66;03m# Do not call functions when jit is used\u001b[39;00m\n\u001b[1;32m   1503\u001b[0m full_backward_hooks, non_full_backward_hooks \u001b[38;5;241m=\u001b[39m [], []\n",
      "File \u001b[0;32m~/venvs/py310-tortoise/lib/python3.10/site-packages/TorToiSe-2.3.0-py3.10.egg/tortoise/models/arch_util.py:341\u001b[0m, in \u001b[0;36mCheckpointedLayer.forward\u001b[0;34m(self, x, *args, **kwargs)\u001b[0m\n\u001b[1;32m    339\u001b[0m     \u001b[38;5;28;01massert\u001b[39;00m \u001b[38;5;129;01mnot\u001b[39;00m (\u001b[38;5;28misinstance\u001b[39m(v, torch\u001b[38;5;241m.\u001b[39mTensor) \u001b[38;5;129;01mand\u001b[39;00m v\u001b[38;5;241m.\u001b[39mrequires_grad)  \u001b[38;5;66;03m# This would screw up checkpointing.\u001b[39;00m\n\u001b[1;32m    340\u001b[0m partial \u001b[38;5;241m=\u001b[39m functools\u001b[38;5;241m.\u001b[39mpartial(\u001b[38;5;28mself\u001b[39m\u001b[38;5;241m.\u001b[39mwrap, \u001b[38;5;241m*\u001b[39m\u001b[38;5;241m*\u001b[39mkwargs)\n\u001b[0;32m--> 341\u001b[0m \u001b[38;5;28;01mreturn\u001b[39;00m \u001b[43mtorch\u001b[49m\u001b[38;5;241;43m.\u001b[39;49m\u001b[43mutils\u001b[49m\u001b[38;5;241;43m.\u001b[39;49m\u001b[43mcheckpoint\u001b[49m\u001b[38;5;241;43m.\u001b[39;49m\u001b[43mcheckpoint\u001b[49m\u001b[43m(\u001b[49m\u001b[43mpartial\u001b[49m\u001b[43m,\u001b[49m\u001b[43m \u001b[49m\u001b[43mx\u001b[49m\u001b[43m,\u001b[49m\u001b[43m \u001b[49m\u001b[38;5;241;43m*\u001b[39;49m\u001b[43margs\u001b[49m\u001b[43m)\u001b[49m\n",
      "File \u001b[0;32m~/venvs/py310-tortoise/lib/python3.10/site-packages/torch/utils/checkpoint.py:249\u001b[0m, in \u001b[0;36mcheckpoint\u001b[0;34m(function, use_reentrant, *args, **kwargs)\u001b[0m\n\u001b[1;32m    246\u001b[0m     \u001b[38;5;28;01mraise\u001b[39;00m \u001b[38;5;167;01mValueError\u001b[39;00m(\u001b[38;5;124m\"\u001b[39m\u001b[38;5;124mUnexpected keyword arguments: \u001b[39m\u001b[38;5;124m\"\u001b[39m \u001b[38;5;241m+\u001b[39m \u001b[38;5;124m\"\u001b[39m\u001b[38;5;124m,\u001b[39m\u001b[38;5;124m\"\u001b[39m\u001b[38;5;241m.\u001b[39mjoin(arg \u001b[38;5;28;01mfor\u001b[39;00m arg \u001b[38;5;129;01min\u001b[39;00m kwargs))\n\u001b[1;32m    248\u001b[0m \u001b[38;5;28;01mif\u001b[39;00m use_reentrant:\n\u001b[0;32m--> 249\u001b[0m     \u001b[38;5;28;01mreturn\u001b[39;00m \u001b[43mCheckpointFunction\u001b[49m\u001b[38;5;241;43m.\u001b[39;49m\u001b[43mapply\u001b[49m\u001b[43m(\u001b[49m\u001b[43mfunction\u001b[49m\u001b[43m,\u001b[49m\u001b[43m \u001b[49m\u001b[43mpreserve\u001b[49m\u001b[43m,\u001b[49m\u001b[43m \u001b[49m\u001b[38;5;241;43m*\u001b[39;49m\u001b[43margs\u001b[49m\u001b[43m)\u001b[49m\n\u001b[1;32m    250\u001b[0m \u001b[38;5;28;01melse\u001b[39;00m:\n\u001b[1;32m    251\u001b[0m     \u001b[38;5;28;01mreturn\u001b[39;00m _checkpoint_without_reentrant(\n\u001b[1;32m    252\u001b[0m         function,\n\u001b[1;32m    253\u001b[0m         preserve,\n\u001b[1;32m    254\u001b[0m         \u001b[38;5;241m*\u001b[39margs,\n\u001b[1;32m    255\u001b[0m         \u001b[38;5;241m*\u001b[39m\u001b[38;5;241m*\u001b[39mkwargs,\n\u001b[1;32m    256\u001b[0m     )\n",
      "File \u001b[0;32m~/venvs/py310-tortoise/lib/python3.10/site-packages/torch/autograd/function.py:506\u001b[0m, in \u001b[0;36mFunction.apply\u001b[0;34m(cls, *args, **kwargs)\u001b[0m\n\u001b[1;32m    503\u001b[0m \u001b[38;5;28;01mif\u001b[39;00m \u001b[38;5;129;01mnot\u001b[39;00m torch\u001b[38;5;241m.\u001b[39m_C\u001b[38;5;241m.\u001b[39m_are_functorch_transforms_active():\n\u001b[1;32m    504\u001b[0m     \u001b[38;5;66;03m# See NOTE: [functorch vjp and autograd interaction]\u001b[39;00m\n\u001b[1;32m    505\u001b[0m     args \u001b[38;5;241m=\u001b[39m _functorch\u001b[38;5;241m.\u001b[39mutils\u001b[38;5;241m.\u001b[39munwrap_dead_wrappers(args)\n\u001b[0;32m--> 506\u001b[0m     \u001b[38;5;28;01mreturn\u001b[39;00m \u001b[38;5;28;43msuper\u001b[39;49m\u001b[43m(\u001b[49m\u001b[43m)\u001b[49m\u001b[38;5;241;43m.\u001b[39;49m\u001b[43mapply\u001b[49m\u001b[43m(\u001b[49m\u001b[38;5;241;43m*\u001b[39;49m\u001b[43margs\u001b[49m\u001b[43m,\u001b[49m\u001b[43m \u001b[49m\u001b[38;5;241;43m*\u001b[39;49m\u001b[38;5;241;43m*\u001b[39;49m\u001b[43mkwargs\u001b[49m\u001b[43m)\u001b[49m  \u001b[38;5;66;03m# type: ignore[misc]\u001b[39;00m\n\u001b[1;32m    508\u001b[0m \u001b[38;5;28;01mif\u001b[39;00m \u001b[38;5;28mcls\u001b[39m\u001b[38;5;241m.\u001b[39msetup_context \u001b[38;5;241m==\u001b[39m _SingleLevelFunction\u001b[38;5;241m.\u001b[39msetup_context:\n\u001b[1;32m    509\u001b[0m     \u001b[38;5;28;01mraise\u001b[39;00m \u001b[38;5;167;01mRuntimeError\u001b[39;00m(\n\u001b[1;32m    510\u001b[0m         \u001b[38;5;124m'\u001b[39m\u001b[38;5;124mIn order to use an autograd.Function with functorch transforms \u001b[39m\u001b[38;5;124m'\u001b[39m\n\u001b[1;32m    511\u001b[0m         \u001b[38;5;124m'\u001b[39m\u001b[38;5;124m(vmap, grad, jvp, jacrev, ...), it must override the setup_context \u001b[39m\u001b[38;5;124m'\u001b[39m\n\u001b[1;32m    512\u001b[0m         \u001b[38;5;124m'\u001b[39m\u001b[38;5;124mstaticmethod. For more details, please see \u001b[39m\u001b[38;5;124m'\u001b[39m\n\u001b[1;32m    513\u001b[0m         \u001b[38;5;124m'\u001b[39m\u001b[38;5;124mhttps://pytorch.org/docs/master/notes/extending.func.html\u001b[39m\u001b[38;5;124m'\u001b[39m)\n",
      "File \u001b[0;32m~/venvs/py310-tortoise/lib/python3.10/site-packages/torch/utils/checkpoint.py:107\u001b[0m, in \u001b[0;36mCheckpointFunction.forward\u001b[0;34m(ctx, run_function, preserve_rng_state, *args)\u001b[0m\n\u001b[1;32m    104\u001b[0m ctx\u001b[38;5;241m.\u001b[39msave_for_backward(\u001b[38;5;241m*\u001b[39mtensor_inputs)\n\u001b[1;32m    106\u001b[0m \u001b[38;5;28;01mwith\u001b[39;00m torch\u001b[38;5;241m.\u001b[39mno_grad():\n\u001b[0;32m--> 107\u001b[0m     outputs \u001b[38;5;241m=\u001b[39m \u001b[43mrun_function\u001b[49m\u001b[43m(\u001b[49m\u001b[38;5;241;43m*\u001b[39;49m\u001b[43margs\u001b[49m\u001b[43m)\u001b[49m\n\u001b[1;32m    108\u001b[0m \u001b[38;5;28;01mreturn\u001b[39;00m outputs\n",
      "File \u001b[0;32m~/venvs/py310-tortoise/lib/python3.10/site-packages/torch/nn/modules/module.py:1501\u001b[0m, in \u001b[0;36mModule._call_impl\u001b[0;34m(self, *args, **kwargs)\u001b[0m\n\u001b[1;32m   1496\u001b[0m \u001b[38;5;66;03m# If we don't have any hooks, we want to skip the rest of the logic in\u001b[39;00m\n\u001b[1;32m   1497\u001b[0m \u001b[38;5;66;03m# this function, and just call forward.\u001b[39;00m\n\u001b[1;32m   1498\u001b[0m \u001b[38;5;28;01mif\u001b[39;00m \u001b[38;5;129;01mnot\u001b[39;00m (\u001b[38;5;28mself\u001b[39m\u001b[38;5;241m.\u001b[39m_backward_hooks \u001b[38;5;129;01mor\u001b[39;00m \u001b[38;5;28mself\u001b[39m\u001b[38;5;241m.\u001b[39m_backward_pre_hooks \u001b[38;5;129;01mor\u001b[39;00m \u001b[38;5;28mself\u001b[39m\u001b[38;5;241m.\u001b[39m_forward_hooks \u001b[38;5;129;01mor\u001b[39;00m \u001b[38;5;28mself\u001b[39m\u001b[38;5;241m.\u001b[39m_forward_pre_hooks\n\u001b[1;32m   1499\u001b[0m         \u001b[38;5;129;01mor\u001b[39;00m _global_backward_pre_hooks \u001b[38;5;129;01mor\u001b[39;00m _global_backward_hooks\n\u001b[1;32m   1500\u001b[0m         \u001b[38;5;129;01mor\u001b[39;00m _global_forward_hooks \u001b[38;5;129;01mor\u001b[39;00m _global_forward_pre_hooks):\n\u001b[0;32m-> 1501\u001b[0m     \u001b[38;5;28;01mreturn\u001b[39;00m \u001b[43mforward_call\u001b[49m\u001b[43m(\u001b[49m\u001b[38;5;241;43m*\u001b[39;49m\u001b[43margs\u001b[49m\u001b[43m,\u001b[49m\u001b[43m \u001b[49m\u001b[38;5;241;43m*\u001b[39;49m\u001b[38;5;241;43m*\u001b[39;49m\u001b[43mkwargs\u001b[49m\u001b[43m)\u001b[49m\n\u001b[1;32m   1502\u001b[0m \u001b[38;5;66;03m# Do not call functions when jit is used\u001b[39;00m\n\u001b[1;32m   1503\u001b[0m full_backward_hooks, non_full_backward_hooks \u001b[38;5;241m=\u001b[39m [], []\n",
      "File \u001b[0;32m~/venvs/py310-tortoise/lib/python3.10/site-packages/TorToiSe-2.3.0-py3.10.egg/tortoise/models/xtransformers.py:708\u001b[0m, in \u001b[0;36mAttention.forward\u001b[0;34m(self, x, context, mask, context_mask, attn_mask, sinusoidal_emb, rotary_pos_emb, prev_attn, mem, layer_past)\u001b[0m\n\u001b[1;32m    705\u001b[0m     dots\u001b[38;5;241m.\u001b[39mmasked_fill_(mask, mask_value)\n\u001b[1;32m    706\u001b[0m     \u001b[38;5;28;01mdel\u001b[39;00m mask\n\u001b[0;32m--> 708\u001b[0m attn \u001b[38;5;241m=\u001b[39m \u001b[38;5;28;43mself\u001b[39;49m\u001b[38;5;241;43m.\u001b[39;49m\u001b[43mattn_fn\u001b[49m\u001b[43m(\u001b[49m\u001b[43mdots\u001b[49m\u001b[43m,\u001b[49m\u001b[43m \u001b[49m\u001b[43mdim\u001b[49m\u001b[38;5;241;43m=\u001b[39;49m\u001b[38;5;241;43m-\u001b[39;49m\u001b[38;5;241;43m1\u001b[39;49m\u001b[43m)\u001b[49m\n\u001b[1;32m    709\u001b[0m post_softmax_attn \u001b[38;5;241m=\u001b[39m attn\u001b[38;5;241m.\u001b[39mclone()\n\u001b[1;32m    711\u001b[0m attn \u001b[38;5;241m=\u001b[39m \u001b[38;5;28mself\u001b[39m\u001b[38;5;241m.\u001b[39mdropout(attn)\n",
      "File \u001b[0;32m~/venvs/py310-tortoise/lib/python3.10/site-packages/torch/nn/functional.py:1843\u001b[0m, in \u001b[0;36msoftmax\u001b[0;34m(input, dim, _stacklevel, dtype)\u001b[0m\n\u001b[1;32m   1841\u001b[0m     dim \u001b[38;5;241m=\u001b[39m _get_softmax_dim(\u001b[38;5;124m\"\u001b[39m\u001b[38;5;124msoftmax\u001b[39m\u001b[38;5;124m\"\u001b[39m, \u001b[38;5;28minput\u001b[39m\u001b[38;5;241m.\u001b[39mdim(), _stacklevel)\n\u001b[1;32m   1842\u001b[0m \u001b[38;5;28;01mif\u001b[39;00m dtype \u001b[38;5;129;01mis\u001b[39;00m \u001b[38;5;28;01mNone\u001b[39;00m:\n\u001b[0;32m-> 1843\u001b[0m     ret \u001b[38;5;241m=\u001b[39m \u001b[38;5;28;43minput\u001b[39;49m\u001b[38;5;241;43m.\u001b[39;49m\u001b[43msoftmax\u001b[49m\u001b[43m(\u001b[49m\u001b[43mdim\u001b[49m\u001b[43m)\u001b[49m\n\u001b[1;32m   1844\u001b[0m \u001b[38;5;28;01melse\u001b[39;00m:\n\u001b[1;32m   1845\u001b[0m     ret \u001b[38;5;241m=\u001b[39m \u001b[38;5;28minput\u001b[39m\u001b[38;5;241m.\u001b[39msoftmax(dim, dtype\u001b[38;5;241m=\u001b[39mdtype)\n",
      "\u001b[0;31mOutOfMemoryError\u001b[0m: CUDA out of memory. Tried to allocate 184.00 MiB (GPU 0; 5.79 GiB total capacity; 4.72 GiB already allocated; 87.88 MiB free; 4.82 GiB reserved in total by PyTorch) If reserved memory is >> allocated memory try setting max_split_size_mb to avoid fragmentation.  See documentation for Memory Management and PYTORCH_CUDA_ALLOC_CONF"
     ]
    }
   ],
   "source": [
    "gen = tts.tts_with_preset(text, \n",
    "                          voice_samples=voice_samples, \n",
    "                          conditioning_latents=conditioning_latents, \n",
    "                          preset=preset)\n",
    "torchaudio.save(f'generated-{CUSTOM_VOICE_NAME}.wav', gen.squeeze(0).cpu(), 24000)\n",
    "IPython.display.Audio(f'generated-{CUSTOM_VOICE_NAME}.wav')"
   ]
  }
 ],
 "metadata": {
  "accelerator": "GPU",
  "colab": {
   "provenance": []
  },
  "kernelspec": {
   "display_name": "Python 3 (ipykernel)",
   "language": "python",
   "name": "python3"
  },
  "language_info": {
   "codemirror_mode": {
    "name": "ipython",
    "version": 3
   },
   "file_extension": ".py",
   "mimetype": "text/x-python",
   "name": "python",
   "nbconvert_exporter": "python",
   "pygments_lexer": "ipython3",
   "version": "3.10.6"
  }
 },
 "nbformat": 4,
 "nbformat_minor": 1
}
